{
 "cells": [
  {
   "cell_type": "markdown",
   "id": "6293cc50",
   "metadata": {},
   "source": [
    "# 100 numpy exercises\n",
    "\n",
    "This is a collection of exercises that have been collected in the numpy mailing list, on stack overflow\n",
    "and in the numpy documentation. The goal of this collection is to offer a quick reference for both old\n",
    "and new users but also to provide a set of exercises for those who teach.\n",
    "\n",
    "\n",
    "If you find an error or think you've a better way to solve some of them, feel\n",
    "free to open an issue at <https://github.com/rougier/numpy-100>."
   ]
  },
  {
   "cell_type": "markdown",
   "id": "a167c052",
   "metadata": {},
   "source": [
    "File automatically generated. See the documentation to update questions/answers/hints programmatically."
   ]
  },
  {
   "cell_type": "markdown",
   "id": "57fc0ee5",
   "metadata": {},
   "source": [
    "Run the `initialize.py` module, then for each question you can query the\n",
    "answer or an hint with `hint(n)` or `answer(n)` for `n` question number."
   ]
  },
  {
   "cell_type": "code",
   "execution_count": null,
   "id": "77bb0571",
   "metadata": {},
   "outputs": [],
   "source": [
    "%run initialise.py"
   ]
  },
  {
   "cell_type": "markdown",
   "id": "3c1222ff",
   "metadata": {},
   "source": [
    "#### 1. Import the numpy package under the name `np` (★☆☆)"
   ]
  },
  {
   "cell_type": "code",
   "execution_count": null,
   "id": "f52e6a0b",
   "metadata": {},
   "outputs": [],
   "source": [
    "import numpy as np"
   ]
  },
  {
   "cell_type": "markdown",
   "id": "9d9f4753",
   "metadata": {},
   "source": [
    "#### 2. Print the numpy version and the configuration (★☆☆)"
   ]
  },
  {
   "cell_type": "code",
   "execution_count": null,
   "id": "b7fa5fa1",
   "metadata": {},
   "outputs": [
    {
     "name": "stdout",
     "output_type": "stream",
     "text": [
      "Numpy version: 2.1.3\n"
     ]
    }
   ],
   "source": [
    "print('Numpy version:',np.__version__)"
   ]
  },
  {
   "cell_type": "markdown",
   "id": "3e4c23c6",
   "metadata": {},
   "source": [
    "#### 3. Create a null vector of size 10 (★☆☆)"
   ]
  },
  {
   "cell_type": "code",
   "execution_count": null,
   "id": "083c5c46",
   "metadata": {},
   "outputs": [
    {
     "name": "stdout",
     "output_type": "stream",
     "text": [
      "[0. 0. 0. 0. 0. 0. 0. 0. 0. 0.]\n"
     ]
    }
   ],
   "source": [
    "import numpy as np\n",
    "null_vector = np.zeros(10)\n",
    "print(null_vector)\n"
   ]
  },
  {
   "cell_type": "markdown",
   "id": "c38bbe82",
   "metadata": {},
   "source": [
    "#### 4. How to find the memory size of any array (★☆☆)"
   ]
  },
  {
   "cell_type": "code",
   "execution_count": null,
   "id": "02b04021",
   "metadata": {},
   "outputs": [
    {
     "name": "stdout",
     "output_type": "stream",
     "text": [
      "Memory size of the array: 40 bytes\n"
     ]
    }
   ],
   "source": [
    "import numpy as np\n",
    "\n",
    "# Create an array\n",
    "arr = np.array([1, 2, 3, 4, 5])\n",
    "\n",
    "# Find the memory size\n",
    "memory_size = arr.nbytes\n",
    "\n",
    "print(f\"Memory size of the array: {memory_size} bytes\")\n"
   ]
  },
  {
   "cell_type": "markdown",
   "id": "67f893d4",
   "metadata": {},
   "source": [
    "#### 5. How to get the documentation of the numpy add function from the command line? (★☆☆)"
   ]
  },
  {
   "cell_type": "code",
   "execution_count": null,
   "id": "40e6b70d",
   "metadata": {},
   "outputs": [],
   "source": [
    "import numpy as np\n"
   ]
  },
  {
   "cell_type": "markdown",
   "id": "e0c739c6",
   "metadata": {},
   "source": [
    "#### 6. Create a null vector of size 10 but the fifth value which is 1 (★☆☆)"
   ]
  },
  {
   "cell_type": "code",
   "execution_count": null,
   "id": "bcceacf7",
   "metadata": {},
   "outputs": [
    {
     "name": "stdout",
     "output_type": "stream",
     "text": [
      "[0. 0. 0. 0. 1. 0. 0. 0. 0. 0.]\n"
     ]
    }
   ],
   "source": [
    "import numpy as np\n",
    "\n",
    "# Create a null vector of size 10\n",
    "null_vector = np.zeros(10)\n",
    "\n",
    "# Set the fifth value (index 4) to 1\n",
    "null_vector[4] = 1\n",
    "\n",
    "print(null_vector)\n"
   ]
  },
  {
   "cell_type": "markdown",
   "id": "fbebedab",
   "metadata": {},
   "source": [
    "#### 7. Create a vector with values ranging from 10 to 49 (★☆☆)"
   ]
  },
  {
   "cell_type": "code",
   "execution_count": null,
   "id": "3d117d54",
   "metadata": {},
   "outputs": [
    {
     "name": "stdout",
     "output_type": "stream",
     "text": [
      "[10 11 12 13 14 15 16 17 18 19 20 21 22 23 24 25 26 27 28 29 30 31 32 33\n",
      " 34 35 36 37 38 39 40 41 42 43 44 45 46 47 48 49]\n"
     ]
    }
   ],
   "source": [
    "import numpy as np\n",
    "\n",
    "# Create a vector with values ranging from 10 to 49\n",
    "vector = np.arange(10, 50)\n",
    "\n",
    "print(vector)\n"
   ]
  },
  {
   "cell_type": "markdown",
   "id": "ad0bff02",
   "metadata": {},
   "source": [
    "#### 8. Reverse a vector (first element becomes last) (★☆☆)"
   ]
  },
  {
   "cell_type": "code",
   "execution_count": null,
   "id": "22d23470",
   "metadata": {},
   "outputs": [
    {
     "data": {
      "text/plain": [
       "[0, 4, 0, 0, 2, 1]"
      ]
     },
     "execution_count": 18,
     "metadata": {},
     "output_type": "execute_result"
    }
   ],
   "source": [
    "[0,4,0,0,2,1]"
   ]
  },
  {
   "cell_type": "markdown",
   "id": "9f59d7e1",
   "metadata": {},
   "source": [
    "#### 9. Create a 3x3 matrix with values ranging from 0 to 8 (★☆☆)"
   ]
  },
  {
   "cell_type": "code",
   "execution_count": null,
   "id": "7449e82d",
   "metadata": {},
   "outputs": [
    {
     "data": {
      "text/plain": [
       "[0]"
      ]
     },
     "execution_count": 16,
     "metadata": {},
     "output_type": "execute_result"
    }
   ],
   "source": [
    "\n",
    "\n",
    "\n",
    "\n",
    "[0 & 1 & 2] \n",
    "[3 & 4 & 5]\n",
    "[6 & 7 & 8]\n",
    "\n",
    "\n",
    "\n"
   ]
  },
  {
   "cell_type": "markdown",
   "id": "f374c4cf",
   "metadata": {},
   "source": [
    "#### 10. Find indices of non-zero elements from [1,2,0,0,4,0] (★☆☆)"
   ]
  },
  {
   "cell_type": "code",
   "execution_count": null,
   "id": "1a84bed8",
   "metadata": {},
   "outputs": [
    {
     "data": {
      "text/plain": [
       "[0, 1, 4]"
      ]
     },
     "execution_count": 17,
     "metadata": {},
     "output_type": "execute_result"
    }
   ],
   "source": [
    "[0,1,4]"
   ]
  },
  {
   "cell_type": "markdown",
   "id": "9c4707f5",
   "metadata": {},
   "source": [
    "#### 11. Create a 3x3 identity matrix (★☆☆)"
   ]
  },
  {
   "cell_type": "code",
   "execution_count": null,
   "id": "29dc1fd3",
   "metadata": {},
   "outputs": [
    {
     "name": "stdout",
     "output_type": "stream",
     "text": [
      "[[1. 0. 0.]\n",
      " [0. 1. 0.]\n",
      " [0. 0. 1.]]\n"
     ]
    }
   ],
   "source": [
    "import numpy as np\n",
    "\n",
    "# Create a 3x3 identity matrix\n",
    "identity_matrix = np.eye(3)\n",
    "\n",
    "print(identity_matrix)\n"
   ]
  },
  {
   "cell_type": "markdown",
   "id": "3bac294a",
   "metadata": {},
   "source": [
    "#### 12. Create a 3x3x3 array with random values (★☆☆)"
   ]
  },
  {
   "cell_type": "code",
   "execution_count": null,
   "id": "eadfae67",
   "metadata": {},
   "outputs": [
    {
     "name": "stdout",
     "output_type": "stream",
     "text": [
      "[[[0.40199691 0.28915001 0.8689215 ]\n",
      "  [0.2293244  0.01111995 0.95814265]\n",
      "  [0.65891972 0.05473604 0.66488531]]\n",
      "\n",
      " [[0.44595958 0.09151054 0.63036084]\n",
      "  [0.95570945 0.21737379 0.48800591]\n",
      "  [0.44597137 0.53583581 0.76183733]]\n",
      "\n",
      " [[0.68467064 0.53554178 0.87934953]\n",
      "  [0.98966003 0.82201505 0.10085937]\n",
      "  [0.19098556 0.41987557 0.42585247]]]\n"
     ]
    }
   ],
   "source": [
    "import numpy as np\n",
    "\n",
    "# Create a 3x3x3 array with random values\n",
    "random_array = np.random.random((3, 3, 3))\n",
    "\n",
    "print(random_array)\n"
   ]
  },
  {
   "cell_type": "markdown",
   "id": "466c2989",
   "metadata": {},
   "source": [
    "#### 13. Create a 10x10 array with random values and find the minimum and maximum values (★☆☆)"
   ]
  },
  {
   "cell_type": "code",
   "execution_count": null,
   "id": "9a74dbfc",
   "metadata": {},
   "outputs": [
    {
     "name": "stdout",
     "output_type": "stream",
     "text": [
      "Random 10x10 array:\n",
      "[[0.87548336 0.26128903 0.03017046 0.05644918 0.26276702 0.39445871\n",
      "  0.55705724 0.26049279 0.90440127 0.11671469]\n",
      " [0.65180857 0.6259276  0.77181442 0.46715189 0.55677221 0.81272361\n",
      "  0.0202828  0.98900964 0.74980792 0.71838966]\n",
      " [0.68888259 0.99695544 0.84028816 0.20617774 0.94597026 0.24425091\n",
      "  0.12874254 0.65444422 0.26205569 0.48914183]\n",
      " [0.5089339  0.5635821  0.40360994 0.38675739 0.46702721 0.06919168\n",
      "  0.77210319 0.62564525 0.47452969 0.06395945]\n",
      " [0.30605832 0.82253294 0.24022995 0.58579234 0.75681177 0.76183848\n",
      "  0.5322773  0.05207766 0.82588473 0.29660717]\n",
      " [0.51229954 0.16305968 0.17818836 0.7442807  0.45255705 0.2042719\n",
      "  0.80057973 0.16721775 0.2236646  0.70948359]\n",
      " [0.31273682 0.37574026 0.0533938  0.48715203 0.97160872 0.90243524\n",
      "  0.02418337 0.32099704 0.09063445 0.65366548]\n",
      " [0.34087939 0.46092675 0.92461007 0.11792713 0.39137023 0.60900781\n",
      "  0.98888153 0.45926705 0.17278244 0.94371423]\n",
      " [0.36324598 0.1914305  0.08217776 0.29153578 0.18767721 0.58220865\n",
      "  0.16435218 0.65241908 0.22947416 0.11285649]\n",
      " [0.17914225 0.61470676 0.00747424 0.07018475 0.54727137 0.87986334\n",
      "  0.83800346 0.45736867 0.82921065 0.10956664]]\n",
      "Minimum value: 0.007474236039025972\n",
      "Maximum value: 0.9969554373632058\n"
     ]
    }
   ],
   "source": [
    "import numpy as np\n",
    "\n",
    "# Create a 10x10 array with random values\n",
    "random_array = np.random.random((10, 10))\n",
    "\n",
    "# Find the minimum and maximum values in the array\n",
    "min_value = np.min(random_array)\n",
    "max_value = np.max(random_array)\n",
    "\n",
    "print(\"Random 10x10 array:\")\n",
    "print(random_array)\n",
    "print(f\"Minimum value: {min_value}\")\n",
    "print(f\"Maximum value: {max_value}\")\n"
   ]
  },
  {
   "cell_type": "markdown",
   "id": "53a8edb2",
   "metadata": {},
   "source": [
    "#### 14. Create a random vector of size 30 and find the mean value (★☆☆)"
   ]
  },
  {
   "cell_type": "code",
   "execution_count": null,
   "id": "6691530b",
   "metadata": {},
   "outputs": [
    {
     "name": "stdout",
     "output_type": "stream",
     "text": [
      "Random vector: [0.22337017 0.15006066 0.35605957 0.95269386 0.09832681 0.41253248\n",
      " 0.10725111 0.65557342 0.98793556 0.04210587 0.28215692 0.93505839\n",
      " 0.72787706 0.63979639 0.8987694  0.72430676 0.60718077 0.69633483\n",
      " 0.86612261 0.47521721 0.86143166 0.70719672 0.35874148 0.2181314\n",
      " 0.31434422 0.66188945 0.17896818 0.33080654 0.46745838 0.25518908]\n",
      "Mean value: 0.5064295655709086\n"
     ]
    }
   ],
   "source": [
    "import numpy as np\n",
    "\n",
    "# Create a random vector of size 30\n",
    "random_vector = np.random.random(30)\n",
    "\n",
    "# Find the mean value of the vector\n",
    "mean_value = np.mean(random_vector)\n",
    "\n",
    "print(\"Random vector:\", random_vector)\n",
    "print(f\"Mean value: {mean_value}\")\n"
   ]
  },
  {
   "cell_type": "markdown",
   "id": "cbaad31c",
   "metadata": {},
   "source": [
    "#### 15. Create a 2d array with 1 on the border and 0 inside (★☆☆)"
   ]
  },
  {
   "cell_type": "code",
   "execution_count": null,
   "id": "ad8308e3",
   "metadata": {},
   "outputs": [
    {
     "name": "stdout",
     "output_type": "stream",
     "text": [
      "[[1. 1. 1. 1. 1.]\n",
      " [1. 0. 0. 0. 1.]\n",
      " [1. 0. 0. 0. 1.]\n",
      " [1. 0. 0. 0. 1.]\n",
      " [1. 1. 1. 1. 1.]]\n"
     ]
    }
   ],
   "source": [
    "import numpy as np\n",
    "\n",
    "# Create a 2D array with 0s\n",
    "n = 5  # Size of the array\n",
    "array = np.zeros((n, n))\n",
    "\n",
    "# Set the border elements to 1\n",
    "array[0, :] = 1\n",
    "array[-1, :] = 1\n",
    "array[:, 0] = 1\n",
    "array[:, -1] = 1\n",
    "\n",
    "print(array)\n"
   ]
  },
  {
   "cell_type": "markdown",
   "id": "c5ecc267",
   "metadata": {},
   "source": [
    "#### 16. How to add a border (filled with 0's) around an existing array? (★☆☆)"
   ]
  },
  {
   "cell_type": "code",
   "execution_count": null,
   "id": "9d5c78c4",
   "metadata": {},
   "outputs": [
    {
     "name": "stdout",
     "output_type": "stream",
     "text": [
      "[[0 0 0 0 0]\n",
      " [0 1 2 3 0]\n",
      " [0 4 5 6 0]\n",
      " [0 7 8 9 0]\n",
      " [0 0 0 0 0]]\n"
     ]
    }
   ],
   "source": [
    "import numpy as np\n",
    "\n",
    "# Example existing array\n",
    "existing_array = np.array([[1, 2, 3],\n",
    "                           [4, 5, 6],\n",
    "                           [7, 8, 9]])\n",
    "\n",
    "# Get the shape of the existing array\n",
    "rows, cols = existing_array.shape\n",
    "\n",
    "# Create a new array with an additional border filled with 0's\n",
    "new_array = np.zeros((rows + 2, cols + 2), dtype=int)\n",
    "\n",
    "# Copy the existing array into the center of the new array\n",
    "new_array[1:-1, 1:-1] = existing_array\n",
    "\n",
    "print(new_array)\n"
   ]
  },
  {
   "cell_type": "markdown",
   "id": "ef909b72",
   "metadata": {},
   "source": [
    " 17.What is the result of the following expression? (★☆☆)\n",
    "```python\n",
    "0 * np.nan\n",
    "np.nan == np.nan\n",
    "np.inf > np.nan\n",
    "np.nan - np.nan\n",
    "np.nan in set([np.nan])\n",
    "0.3 == 3 * 0.1\n",
    "``` "
   ]
  },
  {
   "cell_type": "code",
   "execution_count": null,
   "id": "3b4985f2",
   "metadata": {},
   "outputs": [
    {
     "data": {
      "text/plain": [
       "False"
      ]
     },
     "execution_count": 32,
     "metadata": {},
     "output_type": "execute_result"
    }
   ],
   "source": [
    "0 * np.nan  # nan\n",
    "np.nan == np.nan  # False\n",
    "np.inf > np.nan  # False\n",
    "np.nan - np.nan  # nan\n",
    "np.nan in set([np.nan])  # True\n",
    "0.3 == 3 * 0.1  # False\n"
   ]
  },
  {
   "cell_type": "markdown",
   "id": "502738ac",
   "metadata": {},
   "source": [
    "#### 18. Create a 5x5 matrix with values 1,2,3,4 just below the diagonal (★☆☆)"
   ]
  },
  {
   "cell_type": "code",
   "execution_count": null,
   "id": "faed6e2b",
   "metadata": {},
   "outputs": [
    {
     "name": "stdout",
     "output_type": "stream",
     "text": [
      "[[0 0 0 0 0]\n",
      " [1 0 0 0 0]\n",
      " [0 2 0 0 0]\n",
      " [0 0 3 0 0]\n",
      " [0 0 0 4 0]]\n"
     ]
    }
   ],
   "source": [
    "import numpy as np\n",
    "\n",
    "# Create a 5x5 matrix filled with zeros\n",
    "matrix = np.zeros((5, 5), dtype=int)\n",
    "\n",
    "# Fill values just below the diagonal\n",
    "for i in range(1, 5):\n",
    "    matrix[i, i-1] = i\n",
    "\n",
    "print(matrix)\n"
   ]
  },
  {
   "cell_type": "markdown",
   "id": "a65da660",
   "metadata": {},
   "source": [
    "#### 19. Create a 8x8 matrix and fill it with a checkerboard pattern (★☆☆)"
   ]
  },
  {
   "cell_type": "code",
   "execution_count": null,
   "id": "ed150400",
   "metadata": {},
   "outputs": [
    {
     "name": "stdout",
     "output_type": "stream",
     "text": [
      "[[0 1 0 1 0 1 0 1]\n",
      " [1 0 1 0 1 0 1 0]\n",
      " [0 1 0 1 0 1 0 1]\n",
      " [1 0 1 0 1 0 1 0]\n",
      " [0 1 0 1 0 1 0 1]\n",
      " [1 0 1 0 1 0 1 0]\n",
      " [0 1 0 1 0 1 0 1]\n",
      " [1 0 1 0 1 0 1 0]]\n"
     ]
    }
   ],
   "source": [
    "import numpy as np\n",
    "\n",
    "# Create an 8x8 matrix with alternating 0s and 1s (checkerboard pattern)\n",
    "checkerboard_matrix = np.zeros((8, 8), dtype=int)\n",
    "\n",
    "# Fill the matrix with a checkerboard pattern\n",
    "checkerboard_matrix[1::2, ::2] = 1\n",
    "checkerboard_matrix[::2, 1::2] = 1\n",
    "\n",
    "print(checkerboard_matrix)\n"
   ]
  },
  {
   "cell_type": "markdown",
   "id": "9f7f9c49",
   "metadata": {},
   "source": [
    "#### 20.consider  a (6,7,8) shape array, what is the index (x,y,z) of the 100th element? (★☆☆)"
   ]
  },
  {
   "cell_type": "code",
   "execution_count": null,
   "id": "3782b5a9",
   "metadata": {},
   "outputs": [],
   "source": []
  },
  {
   "cell_type": "markdown",
   "id": "66bfda35",
   "metadata": {},
   "source": [
    "#### 21. Create a checkerboard 8x8 matrix using the tile function (★☆☆)"
   ]
  },
  {
   "cell_type": "code",
   "execution_count": null,
   "id": "4c07477c",
   "metadata": {},
   "outputs": [
    {
     "name": "stdout",
     "output_type": "stream",
     "text": [
      "[[0 1 0 1 0 1 0 1]\n",
      " [1 0 1 0 1 0 1 0]\n",
      " [0 1 0 1 0 1 0 1]\n",
      " [1 0 1 0 1 0 1 0]\n",
      " [0 1 0 1 0 1 0 1]\n",
      " [1 0 1 0 1 0 1 0]\n",
      " [0 1 0 1 0 1 0 1]\n",
      " [1 0 1 0 1 0 1 0]]\n"
     ]
    }
   ],
   "source": [
    "import numpy as np\n",
    "\n",
    "# Create a 2x2 checkerboard pattern\n",
    "block = np.array([[0, 1], [1, 0]])\n",
    "\n",
    "# Tile the 2x2 block to create an 8x8 matrix\n",
    "checkerboard = np.tile(block, (4, 4))\n",
    "\n",
    "print(checkerboard)\n"
   ]
  },
  {
   "cell_type": "markdown",
   "id": "d5bcfc08",
   "metadata": {},
   "source": [
    "#### 22. Normalize a 5x5 random matrix (★☆☆)"
   ]
  },
  {
   "cell_type": "code",
   "execution_count": null,
   "id": "cea6c993",
   "metadata": {},
   "outputs": [
    {
     "name": "stdout",
     "output_type": "stream",
     "text": [
      "Original Matrix:\n",
      " [[0.31866562 0.05515391 0.79734578 0.34805014 0.30166906]\n",
      " [0.99289662 0.70013083 0.38511455 0.61299505 0.86723592]\n",
      " [0.71324093 0.20946134 0.82819598 0.10705551 0.71134481]\n",
      " [0.83578839 0.81601009 0.46841287 0.10191825 0.41653238]\n",
      " [0.36420237 0.44356287 0.9395172  0.25227366 0.50997449]]\n",
      "\n",
      "Normalized to range [0, 1]:\n",
      " [[0.28100641 0.         0.79146643 0.31234179 0.26288143]\n",
      " [1.         0.68779732 0.35186692 0.59487655 0.86599662]\n",
      " [0.70177781 0.16455199 0.8243648  0.05534738 0.69975581]\n",
      " [0.83246127 0.81136988 0.44069547 0.04986906 0.3853706 ]\n",
      " [0.32956637 0.41419566 0.94307669 0.21020665 0.48501639]]\n",
      "\n",
      "Normalized to zero mean and unit variance:\n",
      " [[-0.74373206 -1.69879041  0.99117182 -0.6372323  -0.80533353]\n",
      " [ 1.69991626  0.63883093 -0.50289795  0.32302048  1.24447806]\n",
      " [ 0.6863465  -1.13952646  1.10298372 -1.51068092  0.67947432]\n",
      " [ 1.13050127  1.05881781 -0.20099577 -1.52930012 -0.38902878]\n",
      " [-0.57869099 -0.29106086  1.50645063 -0.98435966 -0.05036197]]\n"
     ]
    }
   ],
   "source": [
    "import numpy as np\n",
    "\n",
    "# Generate a random 5x5 matrix\n",
    "matrix = np.random.random((5, 5))\n",
    "\n",
    "# 1. Normalizing to range [0, 1]\n",
    "normalized_range_01 = (matrix - np.min(matrix)) / (np.max(matrix) - np.min(matrix))\n",
    "\n",
    "# 2. Normalizing to have zero mean and unit variance\n",
    "normalized_zscore = (matrix - np.mean(matrix)) / np.std(matrix)\n",
    "\n",
    "# Print both results\n",
    "print(\"Original Matrix:\\n\", matrix)\n",
    "print(\"\\nNormalized to range [0, 1]:\\n\", normalized_range_01)\n",
    "print(\"\\nNormalized to zero mean and unit variance:\\n\", normalized_zscore)\n"
   ]
  },
  {
   "cell_type": "markdown",
   "id": "f9a0911e",
   "metadata": {},
   "source": [
    "#### 23. Create a custom dtype that describes a color as four unsigned bytes (RGBA) (★☆☆)"
   ]
  },
  {
   "cell_type": "code",
   "execution_count": null,
   "id": "d165044b",
   "metadata": {},
   "outputs": [
    {
     "name": "stdout",
     "output_type": "stream",
     "text": [
      "[(255,   0,   0, 255) (  0, 255,   0, 255) (  0,   0, 255, 255)\n",
      " (255, 255,   0, 255)]\n"
     ]
    }
   ],
   "source": [
    "import numpy as np\n",
    "\n",
    "# Define the custom dtype for RGBA color\n",
    "rgba_dtype = np.dtype([('r', np.uint8), ('g', np.uint8), ('b', np.uint8), ('a', np.uint8)])\n",
    "\n",
    "# Create an array of colors using the custom dtype\n",
    "colors = np.array([(255, 0, 0, 255), (0, 255, 0, 255), (0, 0, 255, 255), (255, 255, 0, 255)], dtype=rgba_dtype)\n",
    "\n",
    "# Print the array of RGBA colors\n",
    "print(colors)\n"
   ]
  },
  {
   "cell_type": "markdown",
   "id": "654805b1",
   "metadata": {},
   "source": [
    "#### 24. Multiply a 5x3 matrix by a 3x2 matrix (real matrix product) (★☆☆)"
   ]
  },
  {
   "cell_type": "code",
   "execution_count": null,
   "id": "6a42619f",
   "metadata": {},
   "outputs": [
    {
     "name": "stdout",
     "output_type": "stream",
     "text": [
      "Matrix A (5x3):\n",
      " [[0.23620783 0.60038434 0.71024252]\n",
      " [0.02082143 0.8936876  0.82440632]\n",
      " [0.44040596 0.00289387 0.19871125]\n",
      " [0.88533465 0.76402655 0.91355816]\n",
      " [0.33959725 0.05313429 0.20599671]]\n",
      "\n",
      "Matrix B (3x2):\n",
      " [[0.60466247 0.63404794]\n",
      " [0.79687952 0.00504945]\n",
      " [0.06545163 0.90203209]]\n",
      "\n",
      "Matrix C (Result of A * B, shape 5x2):\n",
      " [[0.66774653 0.79346025]\n",
      " [0.77871002 0.76135537]\n",
      " [0.28160899 0.45849703]\n",
      " [1.20395962 1.3892613 ]\n",
      " [0.26116616 0.40140488]]\n"
     ]
    }
   ],
   "source": [
    "import numpy as np\n",
    "\n",
    "# Define a 5x3 matrix (random example)\n",
    "A = np.random.random((5, 3))\n",
    "\n",
    "# Define a 3x2 matrix (random example)\n",
    "B = np.random.random((3, 2))\n",
    "\n",
    "# Perform matrix multiplication (real matrix product)\n",
    "C = np.dot(A, B)\n",
    "\n",
    "# Print the result\n",
    "print(\"Matrix A (5x3):\\n\", A)\n",
    "print(\"\\nMatrix B (3x2):\\n\", B)\n",
    "print(\"\\nMatrix C (Result of A * B, shape 5x2):\\n\", C)\n"
   ]
  },
  {
   "cell_type": "markdown",
   "id": "994c25df",
   "metadata": {},
   "source": [
    "#### 25. Given a 1D array, negate all elements which are between 3 and 8, in place. (★☆☆)"
   ]
  },
  {
   "cell_type": "code",
   "execution_count": null,
   "id": "e4b39c03",
   "metadata": {},
   "outputs": [
    {
     "name": "stdout",
     "output_type": "stream",
     "text": [
      "[ 1 -4 -7  9  2 -5 -8 -3 -6 10]\n"
     ]
    }
   ],
   "source": [
    "import numpy as np\n",
    "\n",
    "# Create a sample 1D array (for example)\n",
    "arr = np.array([1, 4, 7, 9, 2, 5, 8, 3, 6, 10])\n",
    "\n",
    "# Apply the condition and negate the elements in place\n",
    "arr[(arr >= 3) & (arr <= 8)] *= -1\n",
    "\n",
    "# Print the modified array\n",
    "print(arr)\n"
   ]
  },
  {
   "cell_type": "markdown",
   "id": "b7d15d1a",
   "metadata": {},
   "source": [
    "26. What is the output of the following script? (★☆☆)\n",
    "```python\n",
    "# Author: Jake VanderPlas\n",
    "\n",
    "print(sum(range(5),-1))\n",
    "from numpy import *\n",
    "print(sum(range(5),-1))\n",
    "```"
   ]
  },
  {
   "cell_type": "code",
   "execution_count": null,
   "id": "4c95bc3f",
   "metadata": {},
   "outputs": [
    {
     "name": "stdout",
     "output_type": "stream",
     "text": [
      "9\n",
      "10\n"
     ]
    }
   ],
   "source": [
    "# Author: Jake VanderPlas\n",
    "\n",
    "print(sum(range(5), -1))\n",
    "from numpy import *\n",
    "print(sum(range(5), -1))\n"
   ]
  },
  {
   "cell_type": "markdown",
   "id": "a34f0d08",
   "metadata": {},
   "source": [
    "#### 27. Consider an integer vector Z, which of these expressions are legal? (★☆☆)\n",
    "```python\n",
    "Z**Z\n",
    "2 << Z >> 2\n",
    "Z <- Z\n",
    "1j*Z\n",
    "Z/1/1\n",
    "Z<Z>Z\n",
    "```"
   ]
  },
  {
   "cell_type": "code",
   "execution_count": null,
   "id": "564658fc",
   "metadata": {},
   "outputs": [],
   "source": []
  },
  {
   "cell_type": "markdown",
   "id": "c34e94bf",
   "metadata": {},
   "source": [
    "#### 28. What are the result of the following expressions? (★☆☆)\n",
    "```python\n",
    "np.array(0) / np.array(0)\n",
    "np.array(0) // np.array(0)\n",
    "np.array([np.nan]).astype(int).astype(float)\n",
    "```"
   ]
  },
  {
   "cell_type": "code",
   "execution_count": null,
   "id": "56663562",
   "metadata": {},
   "outputs": [],
   "source": []
  },
  {
   "cell_type": "markdown",
   "id": "546f5e7b",
   "metadata": {},
   "source": [
    "#### 29. How to round away from zero a float array ? (★☆☆)"
   ]
  },
  {
   "cell_type": "code",
   "execution_count": null,
   "id": "f725a6d2",
   "metadata": {},
   "outputs": [
    {
     "name": "stdout",
     "output_type": "stream",
     "text": [
      "Original array: [-1.5 -2.3  3.7  2.1]\n",
      "Rounded away from zero: [-2. -2.  4.  2.]\n"
     ]
    }
   ],
   "source": [
    "import numpy as np\n",
    "\n",
    "# Create a sample float array\n",
    "arr = np.array([-1.5, -2.3, 3.7, 2.1])\n",
    "\n",
    "# Round away from zero\n",
    "rounded_arr = np.copysign(np.floor(np.abs(arr) + 0.5), arr)\n",
    "\n",
    "print(\"Original array:\", arr)\n",
    "print(\"Rounded away from zero:\", rounded_arr)\n"
   ]
  },
  {
   "cell_type": "markdown",
   "id": "eadca856",
   "metadata": {},
   "source": [
    "#### 30. How to find common values between two arrays? (★☆☆)"
   ]
  },
  {
   "cell_type": "code",
   "execution_count": null,
   "id": "e0270b5b",
   "metadata": {},
   "outputs": [
    {
     "name": "stdout",
     "output_type": "stream",
     "text": [
      "Common values: [4 5]\n"
     ]
    }
   ],
   "source": [
    "import numpy as np\n",
    "\n",
    "# Create two arrays\n",
    "arr1 = np.array([1, 2, 3, 4, 5])\n",
    "arr2 = np.array([4, 5, 6, 7, 8])\n",
    "\n",
    "# Find common values between arr1 and arr2\n",
    "common_values = np.intersect1d(arr1, arr2)\n",
    "\n",
    "print(\"Common values:\", common_values)\n"
   ]
  },
  {
   "cell_type": "markdown",
   "id": "ca16ca22",
   "metadata": {},
   "source": [
    "#### 31. How to ignore all numpy warnings (not recommended)? (★☆☆)"
   ]
  },
  {
   "cell_type": "code",
   "execution_count": 1,
   "id": "7d7208ef",
   "metadata": {},
   "outputs": [],
   "source": [
    "import numpy as np\n",
    "\n",
    "# Ignore all NumPy warnings\n",
    "np.seterr(all='ignore')\n",
    "\n",
    "# Example that would normally raise a warning\n",
    "x = np.array([1, 0, -1])\n",
    "y = np.log(x)  # This would normally raise a warning for log(0) and log(negative numbers)\n",
    "\n",
    "\n"
   ]
  },
  {
   "cell_type": "markdown",
   "id": "c7871d0d",
   "metadata": {},
   "source": [
    "#### 32. Is the following expressions true? (★☆☆)\n",
    "```python\n",
    "np.sqrt(-1) == np.emath.sqrt(-1)\n",
    "```"
   ]
  },
  {
   "cell_type": "code",
   "execution_count": null,
   "id": "acc3701a",
   "metadata": {},
   "outputs": [
    {
     "name": "stderr",
     "output_type": "stream",
     "text": [
      "C:\\Users\\sudheer kumar\\AppData\\Local\\Temp\\ipykernel_13760\\2961820512.py:1: RuntimeWarning: invalid value encountered in sqrt\n",
      "  np.sqrt(-1) == np.emath.sqrt(-1)\n"
     ]
    },
    {
     "data": {
      "text/plain": [
       "np.False_"
      ]
     },
     "execution_count": 39,
     "metadata": {},
     "output_type": "execute_result"
    }
   ],
   "source": [
    "np.sqrt(-1) == np.emath.sqrt(-1)\n"
   ]
  },
  {
   "cell_type": "markdown",
   "id": "e0433e30",
   "metadata": {},
   "source": [
    "#### 33. How to get the dates of yesterday, today and tomorrow? (★☆☆)"
   ]
  },
  {
   "cell_type": "code",
   "execution_count": null,
   "id": "9c4d2152",
   "metadata": {},
   "outputs": [
    {
     "name": "stdout",
     "output_type": "stream",
     "text": [
      "Yesterday: 2024-12-07\n",
      "Today: 2024-12-08\n",
      "Tomorrow: 2024-12-09\n"
     ]
    }
   ],
   "source": [
    "from datetime import datetime, timedelta\n",
    "\n",
    "# Get today's date\n",
    "today = datetime.today().date()\n",
    "\n",
    "# Get yesterday's date by subtracting one day from today\n",
    "yesterday = today - timedelta(days=1)\n",
    "\n",
    "# Get tomorrow's date by adding one day to today\n",
    "tomorrow = today + timedelta(days=1)\n",
    "\n",
    "# Print the results\n",
    "print(\"Yesterday:\", yesterday)\n",
    "print(\"Today:\", today)\n",
    "print(\"Tomorrow:\", tomorrow)\n"
   ]
  },
  {
   "cell_type": "markdown",
   "id": "61bcc9b2",
   "metadata": {},
   "source": [
    "### 34. How to get all the dates corresponding to the month of July 2016? (★★☆)"
   ]
  },
  {
   "cell_type": "code",
   "execution_count": 1,
   "id": "4edc5ff7",
   "metadata": {},
   "outputs": [
    {
     "name": "stdout",
     "output_type": "stream",
     "text": [
      "2016-07-01\n",
      "2016-07-02\n",
      "2016-07-03\n",
      "2016-07-04\n",
      "2016-07-05\n",
      "2016-07-06\n",
      "2016-07-07\n",
      "2016-07-08\n",
      "2016-07-09\n",
      "2016-07-10\n",
      "2016-07-11\n",
      "2016-07-12\n",
      "2016-07-13\n",
      "2016-07-14\n",
      "2016-07-15\n",
      "2016-07-16\n",
      "2016-07-17\n",
      "2016-07-18\n",
      "2016-07-19\n",
      "2016-07-20\n",
      "2016-07-21\n",
      "2016-07-22\n",
      "2016-07-23\n",
      "2016-07-24\n",
      "2016-07-25\n",
      "2016-07-26\n",
      "2016-07-27\n",
      "2016-07-28\n",
      "2016-07-29\n",
      "2016-07-30\n",
      "2016-07-31\n"
     ]
    }
   ],
   "source": [
    "import datetime\n",
    "\n",
    "# Start date: July 1, 2016\n",
    "start_date = datetime.date(2016, 7, 1)\n",
    "\n",
    "# End date: July 31, 2016\n",
    "end_date = datetime.date(2016, 7, 31)\n",
    "\n",
    "# List to store the dates\n",
    "dates_in_july_2016 = []\n",
    "\n",
    "# Generate the list of dates\n",
    "current_date = start_date\n",
    "while current_date <= end_date:\n",
    "    dates_in_july_2016.append(current_date)\n",
    "    current_date += datetime.timedelta(days=1)\n",
    "\n",
    "# Print the list of dates\n",
    "for date in dates_in_july_2016:\n",
    "    print(date)\n"
   ]
  },
  {
   "cell_type": "markdown",
   "id": "4a64e059",
   "metadata": {},
   "source": [
    "#### 35. How to compute ((A+B)*(-A/2)) in place (without copy)? (★★☆)"
   ]
  },
  {
   "cell_type": "code",
   "execution_count": null,
   "id": "49267f60",
   "metadata": {},
   "outputs": [],
   "source": [
    "A = np.array([1, 2, 3, 4, 5])\n",
    "B = np.array([5, 4, 3, 2, 1])\n",
    "\n"
   ]
  },
  {
   "cell_type": "markdown",
   "id": "8a98c2a8",
   "metadata": {},
   "source": [
    "#### 36. Extract the integer part of a random array of positive numbers using 4 different methods (★★☆)"
   ]
  },
  {
   "cell_type": "code",
   "execution_count": null,
   "id": "368130b3",
   "metadata": {},
   "outputs": [
    {
     "name": "stdout",
     "output_type": "stream",
     "text": [
      "Original array: [3.05445192 6.75979817 0.21818438 4.1645835  2.36166638]\n",
      "Integer part using np.floor: [3. 6. 0. 4. 2.]\n",
      "Integer part using np.trunc: [3. 6. 0. 4. 2.]\n",
      "Integer part using astype(int): [3 6 0 4 2]\n",
      "Integer part using integer division: [3. 6. 0. 4. 2.]\n"
     ]
    }
   ],
   "source": [
    "import numpy as np\n",
    "\n",
    "# Create a random array of positive numbers\n",
    "arr = np.random.random(5) * 10  # Random positive numbers between 0 and 10\n",
    "\n",
    "# Method 1: Using np.floor()\n",
    "int_part1 = np.floor(arr)\n",
    "\n",
    "# Method 2: Using np.trunc()\n",
    "int_part2 = np.trunc(arr)\n",
    "\n",
    "# Method 3: Using np.astype(int)\n",
    "int_part3 = arr.astype(int)\n",
    "\n",
    "# Method 4: Using integer division\n",
    "int_part4 = arr // 1\n",
    "\n",
    "# Print the results\n",
    "print(\"Original array:\", arr)\n",
    "print(\"Integer part using np.floor:\", int_part1)\n",
    "print(\"Integer part using np.trunc:\", int_part2)\n",
    "print(\"Integer part using astype(int):\", int_part3)\n",
    "print(\"Integer part using integer division:\", int_part4)\n",
    "\n"
   ]
  },
  {
   "cell_type": "markdown",
   "id": "5a2e3d85",
   "metadata": {},
   "source": [
    "#### 37. Create a 5x5 matrix with row values ranging from 0 to 4 (★★☆)"
   ]
  },
  {
   "cell_type": "code",
   "execution_count": 35,
   "id": "1d974e8f",
   "metadata": {},
   "outputs": [
    {
     "name": "stdout",
     "output_type": "stream",
     "text": [
      "[[0 1 2 3 4]\n",
      " [0 1 2 3 4]\n",
      " [0 1 2 3 4]\n",
      " [0 1 2 3 4]\n",
      " [0 1 2 3 4]]\n"
     ]
    }
   ],
   "source": [
    "import numpy as np\n",
    "\n",
    "# Create a 5x5 matrix with row values ranging from 0 to 4\n",
    "matrix = np.arange(5)  # Creates an array [0, 1, 2, 3, 4]\n",
    "matrix_5x5 = np.tile(matrix, (5, 1))  # Repeat the array 5 times along the rows\n",
    "\n",
    "# Print the resulting matrix\n",
    "print(matrix_5x5)\n"
   ]
  },
  {
   "cell_type": "markdown",
   "id": "9720e2d5",
   "metadata": {},
   "source": [
    "#### 38. Consider a generator function that generates 10 integers and use it to build an array (★☆☆)"
   ]
  },
  {
   "cell_type": "code",
   "execution_count": 34,
   "id": "e5dd8fc9",
   "metadata": {},
   "outputs": [
    {
     "name": "stdout",
     "output_type": "stream",
     "text": [
      "[0 1 2 3 4 5 6 7 8 9]\n"
     ]
    }
   ],
   "source": [
    "import numpy as np\n",
    "\n",
    "# Step 1: Define the generator function\n",
    "def generate_integers():\n",
    "    for i in range(10):  # Yielding 10 integers\n",
    "        yield i\n",
    "\n",
    "# Step 2: Use the generator to build a NumPy array\n",
    "generated_values = generate_integers()\n",
    "arr = np.array(list(generated_values))  # Convert the generator output to a list and then to an array\n",
    "\n",
    "# Print the resulting array\n",
    "print(arr)\n",
    "\n"
   ]
  },
  {
   "cell_type": "markdown",
   "id": "c6f2c912",
   "metadata": {},
   "source": [
    "#### 39. Create a vector of size 10 with values ranging from 0 to 1, both excluded (★★☆)"
   ]
  },
  {
   "cell_type": "code",
   "execution_count": 2,
   "id": "6aaa27d3",
   "metadata": {},
   "outputs": [
    {
     "name": "stdout",
     "output_type": "stream",
     "text": [
      "[0.09090909 0.18181818 0.27272727 0.36363636 0.45454545 0.54545455\n",
      " 0.63636364 0.72727273 0.81818182 0.90909091]\n"
     ]
    }
   ],
   "source": [
    "import numpy as np\n",
    "\n",
    "# Create a vector of 10 values between 0 and 1, excluding both\n",
    "vector = np.linspace(0, 1, 12)[1:-1]\n",
    "\n",
    "# Print the vector\n",
    "print(vector)\n"
   ]
  },
  {
   "cell_type": "markdown",
   "id": "a36d6ee4",
   "metadata": {},
   "source": [
    "#### 40. Create a random vector of size 10 and sort it (★★☆)"
   ]
  },
  {
   "cell_type": "code",
   "execution_count": 3,
   "id": "e589d216",
   "metadata": {},
   "outputs": [
    {
     "name": "stdout",
     "output_type": "stream",
     "text": [
      "[0.20072525 0.35093328 0.36626172 0.5417516  0.61508559 0.61740532\n",
      " 0.85210766 0.92365331 0.97688655 0.99537175]\n"
     ]
    }
   ],
   "source": [
    "import numpy as np\n",
    "\n",
    "# Create a random vector of size 10\n",
    "random_vector = np.random.rand(10)\n",
    "\n",
    "# Sort the random vector\n",
    "sorted_vector = np.sort(random_vector)\n",
    "\n",
    "# Print the sorted vector\n",
    "print(sorted_vector)\n"
   ]
  },
  {
   "cell_type": "markdown",
   "id": "0fb4ad68",
   "metadata": {},
   "source": [
    "#### 41. How to sum a small array faster than np.sum? (★★☆)"
   ]
  },
  {
   "cell_type": "code",
   "execution_count": 4,
   "id": "a1ba05a0",
   "metadata": {},
   "outputs": [
    {
     "name": "stdout",
     "output_type": "stream",
     "text": [
      "np.sum took: 0.00029397010803222656\n",
      "sum() took: 0.00013828277587890625\n",
      "np.add.reduce() took: 0.00022935867309570312\n",
      "Manual loop took: 0.0001964569091796875\n"
     ]
    }
   ],
   "source": [
    "import time\n",
    "import numpy as np\n",
    "\n",
    "arr = np.array([1, 2, 3, 4, 5])\n",
    "\n",
    "# Using np.sum\n",
    "start = time.time()\n",
    "np.sum(arr)\n",
    "print(\"np.sum took:\", time.time() - start)\n",
    "\n",
    "# Using sum (Python built-in)\n",
    "start = time.time()\n",
    "sum(arr)\n",
    "print(\"sum() took:\", time.time() - start)\n",
    "\n",
    "# Using np.add.reduce()\n",
    "start = time.time()\n",
    "np.add.reduce(arr)\n",
    "print(\"np.add.reduce() took:\", time.time() - start)\n",
    "\n",
    "# Using manual loop\n",
    "start = time.time()\n",
    "result = 0\n",
    "for num in arr:\n",
    "    result += num\n",
    "print(\"Manual loop took:\", time.time() - start)\n"
   ]
  },
  {
   "cell_type": "markdown",
   "id": "024ac365",
   "metadata": {},
   "source": [
    "#### 42. Consider two random array A and B, check if they are equal (★★☆)"
   ]
  },
  {
   "cell_type": "code",
   "execution_count": 5,
   "id": "7db3846d",
   "metadata": {},
   "outputs": [
    {
     "name": "stdout",
     "output_type": "stream",
     "text": [
      "Element-wise equality check:\n",
      "[False False False False False]\n"
     ]
    }
   ],
   "source": [
    "import numpy as np\n",
    "\n",
    "# Create two random arrays A and B\n",
    "A = np.random.random(5)\n",
    "B = np.random.random(5)\n",
    "\n",
    "# Element-wise comparison\n",
    "are_equal_elementwise = (A == B)\n",
    "\n",
    "print(\"Element-wise equality check:\")\n",
    "print(are_equal_elementwise)\n"
   ]
  },
  {
   "cell_type": "markdown",
   "id": "c68d2401",
   "metadata": {},
   "source": [
    "#### 43. Make an array immutable (read-only) (★★☆)"
   ]
  },
  {
   "cell_type": "code",
   "execution_count": 6,
   "id": "7828539d",
   "metadata": {},
   "outputs": [
    {
     "name": "stdout",
     "output_type": "stream",
     "text": [
      "Error: assignment destination is read-only\n"
     ]
    }
   ],
   "source": [
    "import numpy as np\n",
    "\n",
    "# Create a NumPy array\n",
    "arr = np.array([1, 2, 3, 4, 5])\n",
    "\n",
    "# Set the array to be read-only\n",
    "arr.flags.writeable = False\n",
    "\n",
    "# Attempting to modify the array will now raise an error\n",
    "try:\n",
    "    arr[0] = 10\n",
    "except ValueError as e:\n",
    "    print(f\"Error: {e}\")  # Output: Error: assignment destination is read-only\n"
   ]
  },
  {
   "cell_type": "markdown",
   "id": "55df6280",
   "metadata": {},
   "source": [
    "#### 44. Consider a random 10x2 matrix representing cartesian coordinates, convert them to polar coordinates (★★☆)"
   ]
  },
  {
   "cell_type": "code",
   "execution_count": 7,
   "id": "f1c86ea0",
   "metadata": {},
   "outputs": [
    {
     "name": "stdout",
     "output_type": "stream",
     "text": [
      "Cartesian Coordinates (x, y):\n",
      " [[9.49173323 4.81874893]\n",
      " [6.2576028  2.4272811 ]\n",
      " [7.39925203 6.209135  ]\n",
      " [0.24626749 5.32563017]\n",
      " [1.24607358 0.40332146]\n",
      " [9.97374543 3.57087912]\n",
      " [7.64317971 5.13896427]\n",
      " [7.26253426 6.58251797]\n",
      " [0.67552443 1.87294234]\n",
      " [6.26459869 3.89296539]]\n",
      "\n",
      "Polar Coordinates (r, θ):\n",
      " [[10.64487393  0.46977153]\n",
      " [ 6.71187651  0.37002604]\n",
      " [ 9.65931095  0.69816543]\n",
      " [ 5.33132107  1.5245873 ]\n",
      " [ 1.30972041  0.31303199]\n",
      " [10.59371397  0.34380864]\n",
      " [ 9.21016557  0.59193343]\n",
      " [ 9.80173183  0.73632141]\n",
      " [ 1.9910415   1.22464287]\n",
      " [ 7.37566108  0.55602292]]\n"
     ]
    }
   ],
   "source": [
    "import numpy as np\n",
    "\n",
    "# Step 1: Generate a random 10x2 matrix representing Cartesian coordinates\n",
    "cartesian_coords = np.random.random((10, 2)) * 10  # Random values scaled to a larger range for demonstration\n",
    "\n",
    "# Step 2: Convert to polar coordinates\n",
    "x = cartesian_coords[:, 0]  # Extract x values\n",
    "y = cartesian_coords[:, 1]  # Extract y values\n",
    "\n",
    "# Calculate the radius (r)\n",
    "r = np.sqrt(x**2 + y**2)\n",
    "\n",
    "# Calculate the angle (θ) in radians\n",
    "theta = np.arctan2(y, x)\n",
    "\n",
    "# Step 3: Combine radius and angle into a 10x2 matrix\n",
    "polar_coords = np.vstack((r, theta)).T\n",
    "\n",
    "# Output the Cartesian and Polar coordinates\n",
    "print(\"Cartesian Coordinates (x, y):\\n\", cartesian_coords)\n",
    "print(\"\\nPolar Coordinates (r, θ):\\n\", polar_coords)\n"
   ]
  },
  {
   "cell_type": "markdown",
   "id": "2f60f1ec",
   "metadata": {},
   "source": [
    "#### 45. Create random vector of size 10 and replace the maximum value by 0 (★★☆)"
   ]
  },
  {
   "cell_type": "code",
   "execution_count": 8,
   "id": "d9f48f1c",
   "metadata": {},
   "outputs": [
    {
     "name": "stdout",
     "output_type": "stream",
     "text": [
      "Modified vector with maximum value replaced by 0: [0.60692805 0.90540605 0.28312723 0.11293922 0.         0.37807999\n",
      " 0.11054217 0.1658335  0.14053674 0.84459388]\n"
     ]
    }
   ],
   "source": [
    "import numpy as np\n",
    "\n",
    "# Step 1: Create a random vector of size 10\n",
    "vector = np.random.random(10)  # Creates a vector of size 10 with random values between 0 and 1\n",
    "\n",
    "# Step 2: Find the maximum value in the vector\n",
    "max_value_index = np.argmax(vector)  # Get the index of the maximum value\n",
    "\n",
    "# Step 3: Replace the maximum value with 0\n",
    "vector[max_value_index] = 0\n",
    "\n",
    "# Output the modified vector\n",
    "print(\"Modified vector with maximum value replaced by 0:\", vector)\n"
   ]
  },
  {
   "cell_type": "markdown",
   "id": "084e8ad4",
   "metadata": {},
   "source": [
    "#### 46. Create a structured array with `x` and `y` coordinates covering the [0,1]x[0,1] area (★★☆)"
   ]
  },
  {
   "cell_type": "code",
   "execution_count": 9,
   "id": "58b47c13",
   "metadata": {},
   "outputs": [
    {
     "name": "stdout",
     "output_type": "stream",
     "text": [
      "[(0.  , 0.  ) (0.25, 0.  ) (0.5 , 0.  ) (0.75, 0.  ) (1.  , 0.  )\n",
      " (0.  , 0.25) (0.25, 0.25) (0.5 , 0.25) (0.75, 0.25) (1.  , 0.25)\n",
      " (0.  , 0.5 ) (0.25, 0.5 ) (0.5 , 0.5 ) (0.75, 0.5 ) (1.  , 0.5 )\n",
      " (0.  , 0.75) (0.25, 0.75) (0.5 , 0.75) (0.75, 0.75) (1.  , 0.75)\n",
      " (0.  , 1.  ) (0.25, 1.  ) (0.5 , 1.  ) (0.75, 1.  ) (1.  , 1.  )]\n"
     ]
    }
   ],
   "source": [
    "import numpy as np\n",
    "\n",
    "# Step 1: Define a structured data type with fields 'x' and 'y'\n",
    "dtype = [('x', 'f4'), ('y', 'f4')]\n",
    "\n",
    "# Step 2: Generate x and y coordinates covering the [0,1] x [0,1] area\n",
    "# Let's create a grid with 5 points in each direction (you can adjust this number)\n",
    "x = np.linspace(0, 1, 5)  # 5 equally spaced points from 0 to 1 for x\n",
    "y = np.linspace(0, 1, 5)  # 5 equally spaced points from 0 to 1 for y\n",
    "\n",
    "# Step 3: Create a meshgrid to generate all combinations of x and y\n",
    "x_grid, y_grid = np.meshgrid(x, y)\n",
    "\n",
    "# Step 4: Stack the x and y values together into a structured array\n",
    "coordinates = np.array(list(zip(x_grid.ravel(), y_grid.ravel())), dtype=dtype)\n",
    "\n",
    "# Output the structured array\n",
    "print(coordinates)\n"
   ]
  },
  {
   "cell_type": "markdown",
   "id": "d7b9bc42",
   "metadata": {},
   "source": [
    "#### 47. Given two arrays, X and Y, construct the Cauchy matrix C (Cij =1/(xi - yj)) (★★☆)"
   ]
  },
  {
   "cell_type": "code",
   "execution_count": 10,
   "id": "a24824fb",
   "metadata": {},
   "outputs": [
    {
     "name": "stdout",
     "output_type": "stream",
     "text": [
      "Cauchy Matrix C:\n",
      "[[-0.33333333 -0.5        -1.                 nan]\n",
      " [-0.5        -1.                 nan  1.        ]\n",
      " [-1.                 nan  1.          0.5       ]\n",
      " [        nan  1.          0.5         0.33333333]]\n"
     ]
    },
    {
     "name": "stderr",
     "output_type": "stream",
     "text": [
      "C:\\Users\\sudheer kumar\\AppData\\Local\\Temp\\ipykernel_18880\\1333746578.py:9: RuntimeWarning: divide by zero encountered in divide\n",
      "  C = 1 / (X[:, None] - Y)  # X[:, None] reshapes X to a column vector\n"
     ]
    }
   ],
   "source": [
    "import numpy as np\n",
    "\n",
    "# Step 1: Define two arrays X and Y\n",
    "X = np.array([1, 2, 3, 4])  # Example X array\n",
    "Y = np.array([4, 3, 2, 1])  # Example Y array\n",
    "\n",
    "# Step 2: Create the Cauchy matrix C using broadcasting\n",
    "# The outer subtraction gives us a matrix where C[i, j] = 1 / (X[i] - Y[j])\n",
    "C = 1 / (X[:, None] - Y)  # X[:, None] reshapes X to a column vector\n",
    "\n",
    "# Step 3: Handle potential division by zero (where X[i] == Y[j])\n",
    "C[np.isinf(C)] = np.nan  # Replace any infinite values with NaN, or use np.inf or another handling method\n",
    "\n",
    "# Output the Cauchy matrix\n",
    "print(\"Cauchy Matrix C:\")\n",
    "print(C)\n"
   ]
  },
  {
   "cell_type": "markdown",
   "id": "65ebc11b",
   "metadata": {},
   "source": [
    "#### 48. Print the minimum and maximum representable value for each numpy scalar type (★★☆)"
   ]
  },
  {
   "cell_type": "code",
   "execution_count": 11,
   "id": "e45d38fb",
   "metadata": {},
   "outputs": [
    {
     "name": "stdout",
     "output_type": "stream",
     "text": [
      "Integer Types:\n",
      "<class 'numpy.int8'>: min = -128, max = 127\n",
      "<class 'numpy.int16'>: min = -32768, max = 32767\n",
      "<class 'numpy.int32'>: min = -2147483648, max = 2147483647\n",
      "<class 'numpy.int64'>: min = -9223372036854775808, max = 9223372036854775807\n",
      "\n",
      "Unsigned Integer Types:\n",
      "<class 'numpy.uint8'>: min = 0, max = 255\n",
      "<class 'numpy.uint16'>: min = 0, max = 65535\n",
      "<class 'numpy.uint32'>: min = 0, max = 4294967295\n",
      "<class 'numpy.uint64'>: min = 0, max = 18446744073709551615\n",
      "\n",
      "Floating Point Types:\n",
      "<class 'numpy.float16'>: min = -65504.0, max = 65504.0, epsilon = 0.0009765625\n",
      "<class 'numpy.float32'>: min = -3.4028234663852886e+38, max = 3.4028234663852886e+38, epsilon = 1.1920928955078125e-07\n",
      "<class 'numpy.float64'>: min = -1.7976931348623157e+308, max = 1.7976931348623157e+308, epsilon = 2.220446049250313e-16\n"
     ]
    }
   ],
   "source": [
    "import numpy as np\n",
    "\n",
    "# Print the minimum and maximum values for integer types\n",
    "print(\"Integer Types:\")\n",
    "for dtype in [np.int8, np.int16, np.int32, np.int64]:\n",
    "    info = np.iinfo(dtype)\n",
    "    print(f\"{dtype}: min = {info.min}, max = {info.max}\")\n",
    "\n",
    "# Print the minimum and maximum values for unsigned integer types\n",
    "print(\"\\nUnsigned Integer Types:\")\n",
    "for dtype in [np.uint8, np.uint16, np.uint32, np.uint64]:\n",
    "    info = np.iinfo(dtype)\n",
    "    print(f\"{dtype}: min = {info.min}, max = {info.max}\")\n",
    "\n",
    "# Print the minimum and maximum values for floating-point types\n",
    "print(\"\\nFloating Point Types:\")\n",
    "for dtype in [np.float16, np.float32, np.float64]:\n",
    "    info = np.finfo(dtype)\n",
    "    print(f\"{dtype}: min = {info.min}, max = {info.max}, epsilon = {info.eps}\")\n",
    "\n"
   ]
  },
  {
   "cell_type": "markdown",
   "id": "9b317a98",
   "metadata": {},
   "source": [
    "#### 49. How to print all the values of an array? (★★☆)"
   ]
  },
  {
   "cell_type": "code",
   "execution_count": 12,
   "id": "309cdeb9",
   "metadata": {},
   "outputs": [
    {
     "name": "stdout",
     "output_type": "stream",
     "text": [
      "1\n",
      "2\n",
      "3\n",
      "4\n",
      "5\n"
     ]
    }
   ],
   "source": [
    "import numpy as np\n",
    "\n",
    "# Create a large array\n",
    "arr = np.array([1, 2, 3, 4, 5])\n",
    "\n",
    "# Iterate over the array and print each value\n",
    "for value in arr:\n",
    "    print(value)\n"
   ]
  },
  {
   "cell_type": "markdown",
   "id": "b580f9d0",
   "metadata": {},
   "source": [
    "#### 50. How to find the closest value (to a given scalar) in a vector? (★★☆)"
   ]
  },
  {
   "cell_type": "code",
   "execution_count": 13,
   "id": "ebfb6714",
   "metadata": {},
   "outputs": [
    {
     "name": "stdout",
     "output_type": "stream",
     "text": [
      "The closest value to 13 in the array is 14\n"
     ]
    }
   ],
   "source": [
    "import numpy as np\n",
    "\n",
    "# Create a sample array (vector)\n",
    "arr = np.array([1, 5, 9, 14, 20, 25])\n",
    "\n",
    "# Define the scalar value to compare with\n",
    "scalar = 13\n",
    "\n",
    "# Step 1: Compute the absolute differences between the scalar and each element in the array\n",
    "differences = np.abs(arr - scalar)\n",
    "\n",
    "# Step 2: Find the index of the minimum difference\n",
    "index_of_closest_value = np.argmin(differences)\n",
    "\n",
    "# Step 3: Retrieve the closest value from the array using the index\n",
    "closest_value = arr[index_of_closest_value]\n",
    "\n",
    "# Output the closest value\n",
    "print(f\"The closest value to {scalar} in the array is {closest_value}\")\n"
   ]
  },
  {
   "cell_type": "markdown",
   "id": "602e6252",
   "metadata": {},
   "source": [
    "#### 51. Create a structured array representing a position (x,y) and a color (r,g,b) (★★☆)"
   ]
  },
  {
   "cell_type": "code",
   "execution_count": 14,
   "id": "cf002b3a",
   "metadata": {},
   "outputs": [
    {
     "name": "stdout",
     "output_type": "stream",
     "text": [
      "[([1. , 2. ], [255,   0,   0]) ([2.5, 3.5], [  0, 255,   0])\n",
      " ([4. , 5. ], [  0,   0, 255])]\n"
     ]
    }
   ],
   "source": [
    "import numpy as np\n",
    "\n",
    "# Define the structured array data type (dtype) with fields 'position' and 'color'\n",
    "dtype = [('position', '2f4'), ('color', '3i4')]\n",
    "\n",
    "# Create an array with positions and colors\n",
    "positions_and_colors = np.array([((1.0, 2.0), (255, 0, 0)),  # Red color at position (1.0, 2.0)\n",
    "                                 ((2.5, 3.5), (0, 255, 0)),  # Green color at position (2.5, 3.5)\n",
    "                                 ((4.0, 5.0), (0, 0, 255))], # Blue color at position (4.0, 5.0)\n",
    "                                dtype=dtype)\n",
    "\n",
    "# Print the structured array\n",
    "print(positions_and_colors)\n"
   ]
  },
  {
   "cell_type": "markdown",
   "id": "78bcd92f",
   "metadata": {},
   "source": [
    "#### 52. Consider a random vector with shape (100,2) representing coordinates, find point by point distances (★★☆)"
   ]
  },
  {
   "cell_type": "code",
   "execution_count": 2,
   "id": "fea7f9a6",
   "metadata": {},
   "outputs": [
    {
     "name": "stdout",
     "output_type": "stream",
     "text": [
      "Pairwise distances matrix:\n",
      "[[0.         0.58197028 0.70256939 ... 0.47364564 0.14552456 0.16533239]\n",
      " [0.58197028 0.         0.57259678 ... 0.18114662 0.67221771 0.44546082]\n",
      " [0.70256939 0.57259678 0.         ... 0.68306338 0.66945492 0.69714514]\n",
      " ...\n",
      " [0.47364564 0.18114662 0.68306338 ... 0.         0.59096334 0.31529748]\n",
      " [0.14552456 0.67221771 0.66945492 ... 0.59096334 0.         0.30188324]\n",
      " [0.16533239 0.44546082 0.69714514 ... 0.31529748 0.30188324 0.        ]]\n"
     ]
    }
   ],
   "source": [
    "import numpy as np\n",
    "\n",
    "# Step 1: Generate a random vector with shape (100, 2) representing coordinates\n",
    "coordinates = np.random.rand(100, 2)\n",
    "\n",
    "# Step 2: Compute pairwise distances using broadcasting\n",
    "# Compute the difference between each pair of points\n",
    "diff = coordinates[:, np.newaxis, :] - coordinates[np.newaxis, :, :]\n",
    "\n",
    "# Compute the squared differences and sum them\n",
    "squared_distances = np.sum(diff**2, axis=-1)\n",
    "\n",
    "# Compute the square root to get the Euclidean distances\n",
    "distances = np.sqrt(squared_distances)\n",
    "\n",
    "# Output the distances\n",
    "print(\"Pairwise distances matrix:\")\n",
    "print(distances)\n"
   ]
  },
  {
   "cell_type": "markdown",
   "id": "343c5a85",
   "metadata": {},
   "source": [
    "#### 53. How to convert a float (32 bits) array into an integer (32 bits) in place?"
   ]
  },
  {
   "cell_type": "code",
   "execution_count": 16,
   "id": "fc1b687b",
   "metadata": {},
   "outputs": [
    {
     "name": "stdout",
     "output_type": "stream",
     "text": [
      "[1. 2. 3. 4. 5.]\n"
     ]
    }
   ],
   "source": [
    "import numpy as np\n",
    "\n",
    "# Create a float32 array\n",
    "arr = np.array([1.5, 2.3, 3.7, 4.1, 5.9], dtype=np.float32)\n",
    "\n",
    "# Convert the float32 array to an int32 array in place\n",
    "arr[:] = arr.astype(np.int32)\n",
    "\n",
    "# Print the result\n",
    "print(arr)\n"
   ]
  },
  {
   "cell_type": "markdown",
   "id": "a69e1ace",
   "metadata": {},
   "source": [
    "#### 54. How to read the following file? (★★☆)\n",
    "```\n",
    "1, 2, 3, 4, 5\n",
    "6,  ,  , 7, 8\n",
    " ,  , 9,10,11\n",
    "```"
   ]
  },
  {
   "cell_type": "code",
   "execution_count": null,
   "id": "1c7957d4",
   "metadata": {},
   "outputs": [
    {
     "ename": "SyntaxError",
     "evalue": "invalid non-printable character U+00A0 (756691761.py, line 13)",
     "output_type": "error",
     "traceback": [
      "\u001b[1;36m  Cell \u001b[1;32mIn[4], line 13\u001b[1;36m\u001b[0m\n\u001b[1;33m    print(row)\u001b[0m\n\u001b[1;37m    ^\u001b[0m\n\u001b[1;31mSyntaxError\u001b[0m\u001b[1;31m:\u001b[0m invalid non-printable character U+00A0\n"
     ]
    }
   ],
   "source": [
    "\n",
    "\n",
    "file_content = \"\"\"\n",
    "1, 2, 3, 4, 5\n",
    "6,  ,  , 7, 8\n",
    " ,  , 9,10,11\n",
    "\"\" \"\n",
    "\n",
    "# Convert the file content to a list of lists, handling empty values\n",
    "matrix = []\n",
    "for line in file_content.strip().split('\\n'):\n",
    "    matrix.append([int(num) if num.strip() else None for num in line.split(',')])\n",
    "\n",
    "for row in matrix:\n",
    "    print(row)"
   ]
  },
  {
   "cell_type": "markdown",
   "id": "c23bd80d",
   "metadata": {},
   "source": [
    "#### 55. What is the equivalent of enumerate for numpy arrays? (★★☆)"
   ]
  },
  {
   "cell_type": "code",
   "execution_count": 19,
   "id": "d95d9578",
   "metadata": {},
   "outputs": [
    {
     "name": "stdout",
     "output_type": "stream",
     "text": [
      "Index: (0,), Value: 10\n",
      "Index: (1,), Value: 20\n",
      "Index: (2,), Value: 30\n",
      "Index: (3,), Value: 40\n",
      "Index: (4,), Value: 50\n"
     ]
    }
   ],
   "source": [
    "import numpy as np\n",
    "\n",
    "# Create a 1D NumPy array\n",
    "arr = np.array([10, 20, 30, 40, 50])\n",
    "\n",
    "# Use ndenumerate to iterate over the array\n",
    "for index, value in np.ndenumerate(arr):\n",
    "    print(f\"Index: {index}, Value: {value}\")\n"
   ]
  },
  {
   "cell_type": "markdown",
   "id": "2153a5ec",
   "metadata": {},
   "source": [
    "#### 56. Generate a generic 2D Gaussian-like array (★★☆)"
   ]
  },
  {
   "cell_type": "code",
   "execution_count": 20,
   "id": "61122d1e",
   "metadata": {},
   "outputs": [
    {
     "ename": "SyntaxError",
     "evalue": "unterminated string literal (detected at line 25) (1987199388.py, line 25)",
     "output_type": "error",
     "traceback": [
      "\u001b[1;36m  Cell \u001b[1;32mIn[20], line 25\u001b[1;36m\u001b[0m\n\u001b[1;33m    plt.imshow(gaussian_2d, cmap='hot', interpolation='ne\u001b[0m\n\u001b[1;37m                                                      ^\u001b[0m\n\u001b[1;31mSyntaxError\u001b[0m\u001b[1;31m:\u001b[0m unterminated string literal (detected at line 25)\n"
     ]
    }
   ],
   "source": [
    "import numpy as np\n",
    "import matplotlib.pyplot as plt\n",
    "\n",
    "# Define the size of the array\n",
    "shape = (100, 100)\n",
    "\n",
    "# Define the standard deviation (sigma) for the Gaussian distribution\n",
    "sigma = 10\n",
    "\n",
    "# Create a grid of coordinates (x, y)\n",
    "x = np.linspace(-shape[1] // 2, shape[1] // 2, shape[1])\n",
    "y = np.linspace(-shape[0] // 2, shape[0] // 2, shape[0])\n",
    "X, Y = np.meshgrid(x, y)\n",
    "\n",
    "# Apply the 2D Gaussian function\n",
    "gaussian_2d = np.exp(-(X**2 + Y**2) / (2 * sigma**2))\n",
    "\n",
    "# Optional: Normalize the Gaussian array to have values between 0 and 1\n",
    "gaussian_2d /= gaussian_2d.max()\n",
    "\n",
    "# Print the resulting 2D Gaussian array\n",
    "print(gaussian_2d)\n",
    "\n",
    "# Optional: Visualize the 2D Gaussian array using matplotlib\n",
    "plt.imshow(gaussian_2d, cmap='hot', interpolation='ne\n"
   ]
  },
  {
   "cell_type": "markdown",
   "id": "2e76d589",
   "metadata": {},
   "source": [
    "#### 57. How to randomly place p elements in a 2D array? (★★☆)"
   ]
  },
  {
   "cell_type": "code",
   "execution_count": 21,
   "id": "0c2e4fcc",
   "metadata": {},
   "outputs": [
    {
     "name": "stdout",
     "output_type": "stream",
     "text": [
      "[1, 0, 0, 0, 1]\n",
      "[0, 0, 1, 0, 1]\n",
      "[0, 0, 0, 0, 0]\n",
      "[0, 1, 0, 1, 1]\n"
     ]
    }
   ],
   "source": [
    "import random\n",
    "\n",
    "def place_random_elements(m, n, p):\n",
    "    # Initialize an m x n 2D array with zeros\n",
    "    array = [[0 for _ in range(n)] for _ in range(m)]\n",
    "    \n",
    "    # Generate a list of all possible positions (i, j)\n",
    "    positions = [(i, j) for i in range(m) for j in range(n)]\n",
    "    \n",
    "    # Randomly shuffle the positions\n",
    "    random.shuffle(positions)\n",
    "    \n",
    "    # Place p elements at random positions\n",
    "    for i in range(p):\n",
    "        row, col = positions[i]\n",
    "        array[row][col] = 1  # Place an element (1 or any other value)\n",
    "    \n",
    "    return array\n",
    "\n",
    "# Example usage:\n",
    "m = 4  # Number of rows\n",
    "n = 5  # Number of columns\n",
    "p = 7  # Number of elements to place\n",
    "\n",
    "result = place_random_elements(m, n, p)\n",
    "for row in result:\n",
    "    print(row)\n"
   ]
  },
  {
   "cell_type": "markdown",
   "id": "8b3933eb",
   "metadata": {},
   "source": [
    "#### 58. Subtract the mean of each row of a matrix (★★☆)"
   ]
  },
  {
   "cell_type": "code",
   "execution_count": 22,
   "id": "a306c9ef",
   "metadata": {},
   "outputs": [
    {
     "name": "stdout",
     "output_type": "stream",
     "text": [
      "[[-1.  0.  1.]\n",
      " [-1.  0.  1.]\n",
      " [-1.  0.  1.]]\n"
     ]
    }
   ],
   "source": [
    "import numpy as np\n",
    "\n",
    "def subtract_row_mean(matrix):\n",
    "    # Convert the matrix to a numpy array if it isn't already\n",
    "    matrix = np.array(matrix)\n",
    "    \n",
    "    # Compute the mean of each row\n",
    "    row_means = matrix.mean(axis=1, keepdims=True)\n",
    "    \n",
    "    # Subtract the mean of each row from the elements of the row\n",
    "    result = matrix - row_means\n",
    "    \n",
    "    return result\n",
    "\n",
    "# Example usage:\n",
    "matrix = [\n",
    "    [1, 2, 3],\n",
    "    [4, 5, 6],\n",
    "    [7, 8, 9]\n",
    "]\n",
    "\n",
    "result = subtract_row_mean(matrix)\n",
    "print(result)\n"
   ]
  },
  {
   "cell_type": "markdown",
   "id": "ea8807c0",
   "metadata": {},
   "source": [
    "#### 59. How to sort an array by the nth column? (★★☆)"
   ]
  },
  {
   "cell_type": "code",
   "execution_count": 23,
   "id": "cc89a699",
   "metadata": {},
   "outputs": [
    {
     "name": "stdout",
     "output_type": "stream",
     "text": [
      "[1, 4, 7]\n",
      "[3, 5, 1]\n",
      "[2, 8, 6]\n"
     ]
    }
   ],
   "source": [
    "def sort_by_nth_column(matrix, n):\n",
    "    # Sort the matrix by the nth column using sorted() and a lambda function\n",
    "    return sorted(matrix, key=lambda x: x[n])\n",
    "\n",
    "# Example usage:\n",
    "matrix = [\n",
    "    [3, 5, 1],\n",
    "    [2, 8, 6],\n",
    "    [1, 4, 7],\n",
    "]\n",
    "\n",
    "# Sort by the 2nd column (index 1)\n",
    "sorted_matrix = sort_by_nth_column(matrix, 1)\n",
    "\n",
    "# Print the result\n",
    "for row in sorted_matrix:\n",
    "    print(row)\n"
   ]
  },
  {
   "cell_type": "markdown",
   "id": "00fa00a1",
   "metadata": {},
   "source": [
    "#### 60. How to tell if a given 2D array has null columns? (★★☆)"
   ]
  },
  {
   "cell_type": "code",
   "execution_count": 24,
   "id": "3436e165",
   "metadata": {},
   "outputs": [
    {
     "name": "stdout",
     "output_type": "stream",
     "text": [
      "False\n",
      "False\n"
     ]
    }
   ],
   "source": [
    "def has_null_column(matrix):\n",
    "    # Check if any column in the matrix is completely filled with None\n",
    "    for col in zip(*matrix):  # Transpose the matrix to get columns\n",
    "        if all(element is None for element in col):  # Check if all elements in the column are None\n",
    "            return True\n",
    "    return False\n",
    "\n",
    "# Example usage:\n",
    "matrix1 = [\n",
    "    [1, 2, 3],\n",
    "    [4, 5, 6],\n",
    "    [7, 8, None]\n",
    "]\n",
    "\n",
    "matrix2 = [\n",
    "    [1, 2, 3],\n",
    "    [None, None, None],\n",
    "    [7, 8, 9]\n",
    "]\n",
    "\n",
    "print(has_null_column(matrix1))  # Should print False, no column is entirely None\n",
    "print(has_null_column(matrix2))  # Should print True, second column is entirely None\n"
   ]
  },
  {
   "cell_type": "markdown",
   "id": "5a65c7a2",
   "metadata": {},
   "source": [
    "#### 61. Find the nearest value from a given value in an array (★★☆)"
   ]
  },
  {
   "cell_type": "code",
   "execution_count": 25,
   "id": "73f149d6",
   "metadata": {},
   "outputs": [
    {
     "name": "stdout",
     "output_type": "stream",
     "text": [
      "The nearest value to 36 is 35\n"
     ]
    }
   ],
   "source": [
    "def find_nearest_value(array, value):\n",
    "    # Initialize the nearest value and smallest difference\n",
    "    nearest_value = array[0]\n",
    "    smallest_diff = abs(array[0] - value)\n",
    "\n",
    "    # Iterate through the array to find the nearest value\n",
    "    for element in array:\n",
    "        diff = abs(element - value)\n",
    "        if diff < smallest_diff:\n",
    "            smallest_diff = diff\n",
    "            nearest_value = element\n",
    "    \n",
    "    return nearest_value\n",
    "\n",
    "# Example usage:\n",
    "array = [10, 22, 35, 47, 50]\n",
    "value = 36\n",
    "\n",
    "nearest_value = find_nearest_value(array, value)\n",
    "print(f\"The nearest value to {value} is {nearest_value}\")\n"
   ]
  },
  {
   "cell_type": "markdown",
   "id": "dd83e8af",
   "metadata": {},
   "source": [
    "#### 62. Considering two arrays with shape (1,3) and (3,1), how to compute their sum using an iterator? (★★☆)"
   ]
  },
  {
   "cell_type": "code",
   "execution_count": 26,
   "id": "29a709a1",
   "metadata": {},
   "outputs": [
    {
     "name": "stdout",
     "output_type": "stream",
     "text": [
      "[[5 6 7]\n",
      " [6 7 8]\n",
      " [7 8 9]]\n"
     ]
    }
   ],
   "source": [
    "import numpy as np\n",
    "\n",
    "# Define the two arrays with shapes (1, 3) and (3, 1)\n",
    "array1 = np.array([[1, 2, 3]])  # Shape (1, 3)\n",
    "array2 = np.array([[4], [5], [6]])  # Shape (3, 1)\n",
    "\n",
    "# Use iterator to compute the sum\n",
    "result = []\n",
    "\n",
    "# Iterate using an iterator over both arrays\n",
    "for i in range(array1.shape[1]):  # Since array1 has shape (1, 3), iterate over columns\n",
    "    for j in range(array2.shape[0]):  # Since array2 has shape (3, 1), iterate over rows\n",
    "        result.append(array1[0, i] + array2[j, 0])  # Add corresponding elements\n",
    "\n",
    "# Convert result to numpy array for better structure and readability\n",
    "result_array = np.array(result).reshape(array1.shape[1], array2.shape[0])\n",
    "\n",
    "# Print the resulting array\n",
    "print(result_array)\n"
   ]
  },
  {
   "cell_type": "markdown",
   "id": "6c042efa",
   "metadata": {},
   "source": [
    "#### 63. Create an array class that has a name attribute (★★☆)"
   ]
  },
  {
   "cell_type": "code",
   "execution_count": 29,
   "id": "45b3d2e0",
   "metadata": {},
   "outputs": [
    {
     "name": "stdout",
     "output_type": "stream",
     "text": [
      "MyArray\n",
      "[[1 2 3]\n",
      " [4 5 6]]\n",
      "UpdatedArray\n",
      "[[ 7  8]\n",
      " [ 9 10]]\n",
      "(2, 2)\n",
      "4\n"
     ]
    }
   ],
   "source": [
    "import numpy as np\n",
    "\n",
    "class ArrayWithName:\n",
    "    def __init__(self, name, array):\n",
    "        self.name = name  # Set the name attribute\n",
    "        self.array = np.array(array)  # Store the array as a numpy array for better functionality\n",
    "    \n",
    "    def __repr__(self):\n",
    "        # This method returns a string representation of the object for easy printing\n",
    "        return f\"ArrayWithName(name='{self.name}', array={self.array})\"\n",
    "    \n",
    "    def get_name(self):\n",
    "        # Return the name of the array\n",
    "        return self.name\n",
    "    \n",
    "    def get_array(self):\n",
    "        # Return the array\n",
    "        return self.array\n",
    "    \n",
    "    def set_name(self, name):\n",
    "        # Set the name of the array\n",
    "        self.name = name\n",
    "    \n",
    "    def set_array(self, array):\n",
    "        # Set the array (can be any list or numpy array)\n",
    "        self.array = np.array(array)\n",
    "    \n",
    "    def shape(self):\n",
    "        # Return the shape of the array\n",
    "        return self.array.shape\n",
    "    \n",
    "    def size(self):\n",
    "        # Return the size (total number of elements) of the array\n",
    "        return self.array.size\n",
    "\n",
    "# Example usage:\n",
    "arr_obj = ArrayWithName(\"MyArray\", [[1, 2, 3], [4, 5, 6]])\n",
    "\n",
    "# Access the name and array\n",
    "print(arr_obj.get_name())  # Output: MyArray\n",
    "print(arr_obj.get_array())  # Output: [[1 2 3] [4 5 6]]\n",
    "\n",
    "# Update the name and array\n",
    "arr_obj.set_name(\"UpdatedArray\")\n",
    "arr_obj.set_array([[7, 8], [9, 10]])\n",
    "\n",
    "print(arr_obj.get_name())  # Output: UpdatedArray\n",
    "print(arr_obj.get_array())  # Output: [[ 7  8] [ 9 10]]\n",
    "\n",
    "# Get shape and size of the array\n",
    "print(arr_obj.shape())  # Output: (2, 2)\n",
    "print(arr_obj.size())   # Output: 4\n",
    "\n"
   ]
  },
  {
   "cell_type": "markdown",
   "id": "0a075c3d",
   "metadata": {},
   "source": [
    "#### 64. Consider a given vector, how to add 1 to each element indexed by a second vector (be careful with repeated indices)? (★★★)"
   ]
  },
  {
   "cell_type": "code",
   "execution_count": 30,
   "id": "36c50470",
   "metadata": {},
   "outputs": [
    {
     "name": "stdout",
     "output_type": "stream",
     "text": [
      "[10 21 32 40 51]\n"
     ]
    }
   ],
   "source": [
    "import numpy as np\n",
    "\n",
    "def add_one_to_indices(vec1, vec2):\n",
    "    # Ensure vec1 is a numpy array for better handling\n",
    "    vec1 = np.array(vec1)\n",
    "    \n",
    "    # Iterate over the elements of vec2 and add 1 to vec1 at the specified indices\n",
    "    for index in vec2:\n",
    "        vec1[index] += 1\n",
    "    \n",
    "    return vec1\n",
    "\n",
    "# Example usage:\n",
    "vec1 = [10, 20, 30, 40, 50]  # The original vector\n",
    "vec2 = [1, 2, 2, 4]          # Indices where we add 1 to vec1\n",
    "\n",
    "updated_vec = add_one_to_indices(vec1, vec2)\n",
    "print(updated_vec)\n"
   ]
  },
  {
   "cell_type": "markdown",
   "id": "0fb2f0c5",
   "metadata": {},
   "source": [
    "#### 65. How to accumulate elements of a vector (X) to an array (F) based on an index list (I)? (★★★)"
   ]
  },
  {
   "cell_type": "code",
   "execution_count": 31,
   "id": "58aa5f82",
   "metadata": {},
   "outputs": [
    {
     "name": "stdout",
     "output_type": "stream",
     "text": [
      "[10, 50, 0, 40]\n"
     ]
    }
   ],
   "source": [
    "import numpy as np\n",
    "\n",
    "def accumulate_elements(X, I, F=None):\n",
    "    # If F is not provided, initialize it as a zero array of appropriate size\n",
    "    if F is None:\n",
    "        F = np.zeros(np.max(I) + 1)  # Array F should be large enough to accommodate the highest index in I\n",
    "    \n",
    "    # Iterate through the elements of X and the indices in I\n",
    "    for x, i in zip(X, I):\n",
    "        F[i] += x  # Accumulate X[i] to the corresponding position in F\n",
    "    \n",
    "    return F\n",
    "\n",
    "# Example usage:\n",
    "X = [10, 20, 30, 40]  # Vector X (values to be accumulated)\n",
    "I = [0, 1, 1, 3]      # Index list I (specifying the positions in F)\n",
    "F = [0, 0, 0, 0]      # Initialize array F with zeroes (optional, default size will be handled in the function)\n",
    "\n",
    "# Call the function to accumulate\n",
    "updated_F = accumulate_elements(X, I, F)\n",
    "print(updated_F)\n"
   ]
  },
  {
   "cell_type": "markdown",
   "id": "d89dc506",
   "metadata": {},
   "source": [
    "#### 66. Considering a (w,h,3) image of (dtype=ubyte), compute the number of unique colors (★★☆)"
   ]
  },
  {
   "cell_type": "code",
   "execution_count": 32,
   "id": "8fb43a49",
   "metadata": {},
   "outputs": [],
   "source": [
    "import numpy as np\n",
    "\n",
    "def unique_colors(image):\n",
    "    # Flatten the image to a 2D array of RGB triplets\n",
    "    reshaped_image = image.reshape(-1, 3)\n",
    "    \n",
    "    # Convert each row (RGB triplet) to a tuple and use a set to find unique colors\n",
    "    unique_colors_set = set(map(tuple, reshaped_image))\n",
    "    \n",
    "    # Return the number of unique colors\n",
    "    return len(unique_colors_set)\n",
    "\n",
    "# Example usage:\n",
    "# Let's assume you have an image loaded into the `image` variable (w, h, 3) and dtype=ubyte\n",
    "# image = np.random.randint(0, 256, (w, h, 3), dtype=np.uint8)\n",
    "\n",
    "# Compute the number of unique colors\n",
    "# num_unique_colors = unique_colors(image)\n"
   ]
  },
  {
   "cell_type": "markdown",
   "id": "535a5d81",
   "metadata": {},
   "source": [
    "#### 67. Considering a four dimensions array, how to get sum over the last two axis at once? (★★★)"
   ]
  },
  {
   "cell_type": "code",
   "execution_count": 33,
   "id": "f954ab9d",
   "metadata": {},
   "outputs": [
    {
     "name": "stdout",
     "output_type": "stream",
     "text": [
      "Original array shape: (2, 3, 4, 5)\n",
      "Result shape: (2, 3)\n",
      "Result of summing over the last two axes:\n",
      " [[124  88  78]\n",
      " [101  97 108]]\n"
     ]
    }
   ],
   "source": [
    "import numpy as np\n",
    "\n",
    "# Create a sample 4D array (a, b, c, d)\n",
    "arr = np.random.randint(0, 10, (2, 3, 4, 5))  # Example with shape (2, 3, 4, 5)\n",
    "\n",
    "# Sum over the last two axes (axes 2 and 3)\n",
    "result = np.sum(arr, axis=(-2, -1))\n",
    "\n",
    "print(\"Original array shape:\", arr.shape)\n",
    "print(\"Result shape:\", result.shape)\n",
    "print(\"Result of summing over the last two axes:\\n\", result)\n"
   ]
  },
  {
   "cell_type": "markdown",
   "id": "eee66d3c",
   "metadata": {},
   "source": []
  },
  {
   "cell_type": "code",
   "execution_count": null,
   "id": "8929773a",
   "metadata": {},
   "outputs": [],
   "source": []
  },
  {
   "cell_type": "markdown",
   "id": "f90d4c40",
   "metadata": {},
   "source": [
    "#### 69. How to get the diagonal of a dot product? (★★★)"
   ]
  },
  {
   "cell_type": "code",
   "execution_count": 37,
   "id": "b47d392d",
   "metadata": {},
   "outputs": [
    {
     "name": "stdout",
     "output_type": "stream",
     "text": [
      "Dot Product of A and B:\n",
      " [[19 22]\n",
      " [43 50]]\n",
      "Diagonal of the Dot Product: [19 50]\n"
     ]
    }
   ],
   "source": [
    "import numpy as np\n",
    "\n",
    "# Define two matrices (example)\n",
    "A = np.array([[1, 2], [3, 4]])\n",
    "B = np.array([[5, 6], [7, 8]])\n",
    "\n",
    "# Step 1: Compute the dot product\n",
    "dot_product = np.dot(A, B)\n",
    "\n",
    "# Step 2: Get the diagonal of the dot product matrix\n",
    "diagonal = np.diagonal(dot_product)\n",
    "\n",
    "# Print the result\n",
    "print(\"Dot Product of A and B:\\n\", dot_product)\n",
    "print(\"Diagonal of the Dot Product:\", diagonal)\n"
   ]
  },
  {
   "cell_type": "markdown",
   "id": "a8a97e7d",
   "metadata": {},
   "source": [
    "#### 70. Consider the vector [1, 2, 3, 4, 5], how to build a new vector with 3 consecutive zeros interleaved between each value? (★★★)"
   ]
  },
  {
   "cell_type": "code",
   "execution_count": 38,
   "id": "ee6c6c37",
   "metadata": {},
   "outputs": [
    {
     "name": "stdout",
     "output_type": "stream",
     "text": [
      "New vector with interleaved zeros: [1 0 0 0 2 0 0 0 3 0 0 0 4 0 0 0 5]\n"
     ]
    }
   ],
   "source": [
    "import numpy as np\n",
    "\n",
    "# Original vector\n",
    "vec = np.array([1, 2, 3, 4, 5])\n",
    "\n",
    "# Step 1: Create a new array of zeros with appropriate length\n",
    "new_length = len(vec) * 4 - 3  # 4 slots per element (1 value + 3 zeros)\n",
    "new_vec = np.zeros(new_length, dtype=int)\n",
    "\n",
    "# Step 2: Fill the new array with the original vector values\n",
    "new_vec[::4] = vec  # Place original values in every 4th position\n",
    "\n",
    "# Print the result\n",
    "print(\"New vector with interleaved zeros:\", new_vec)\n"
   ]
  },
  {
   "cell_type": "markdown",
   "id": "d6a30d60",
   "metadata": {},
   "source": [
    "#### 71. Consider an array of dimension (5,5,3), how to mulitply it by an array with dimensions (5,5)? (★★★)"
   ]
  },
  {
   "cell_type": "code",
   "execution_count": 39,
   "id": "e9703f2e",
   "metadata": {},
   "outputs": [
    {
     "name": "stdout",
     "output_type": "stream",
     "text": [
      "Array 3D (5, 5, 3):\n",
      " [[[1 8 3]\n",
      "  [1 5 3]\n",
      "  [3 1 4]\n",
      "  [9 9 9]\n",
      "  [4 5 4]]\n",
      "\n",
      " [[2 8 7]\n",
      "  [6 4 1]\n",
      "  [4 6 8]\n",
      "  [8 8 9]\n",
      "  [5 3 2]]\n",
      "\n",
      " [[3 8 1]\n",
      "  [2 9 6]\n",
      "  [1 4 5]\n",
      "  [7 2 8]\n",
      "  [1 9 6]]\n",
      "\n",
      " [[1 5 8]\n",
      "  [1 5 1]\n",
      "  [6 9 3]\n",
      "  [4 8 9]\n",
      "  [7 4 9]]\n",
      "\n",
      " [[5 1 6]\n",
      "  [2 4 9]\n",
      "  [9 2 2]\n",
      "  [4 4 1]\n",
      "  [3 6 8]]]\n",
      "\n",
      "Array 2D (5, 5):\n",
      " [[3 2 5 5 7]\n",
      " [3 5 7 9 9]\n",
      " [3 2 1 9 2]\n",
      " [4 9 3 1 2]\n",
      " [2 8 4 7 1]]\n",
      "\n",
      "Result of multiplication:\n",
      " [[[ 3 24  9]\n",
      "  [ 2 10  6]\n",
      "  [15  5 20]\n",
      "  [45 45 45]\n",
      "  [28 35 28]]\n",
      "\n",
      " [[ 6 24 21]\n",
      "  [30 20  5]\n",
      "  [28 42 56]\n",
      "  [72 72 81]\n",
      "  [45 27 18]]\n",
      "\n",
      " [[ 9 24  3]\n",
      "  [ 4 18 12]\n",
      "  [ 1  4  5]\n",
      "  [63 18 72]\n",
      "  [ 2 18 12]]\n",
      "\n",
      " [[ 4 20 32]\n",
      "  [ 9 45  9]\n",
      "  [18 27  9]\n",
      "  [ 4  8  9]\n",
      "  [14  8 18]]\n",
      "\n",
      " [[10  2 12]\n",
      "  [16 32 72]\n",
      "  [36  8  8]\n",
      "  [28 28  7]\n",
      "  [ 3  6  8]]]\n"
     ]
    }
   ],
   "source": [
    "import numpy as np\n",
    "\n",
    "# Create a (5, 5, 3) array and a (5, 5) array\n",
    "array_3d = np.random.randint(1, 10, (5, 5, 3))  # A random array of shape (5, 5, 3)\n",
    "array_2d = np.random.randint(1, 10, (5, 5))    # A random array of shape (5, 5)\n",
    "\n",
    "# Multiply using broadcasting\n",
    "result = array_3d * array_2d[:, :, np.newaxis]  # Broadcasting the (5, 5) array to (5, 5, 3)\n",
    "\n",
    "# Print the results\n",
    "print(\"Array 3D (5, 5, 3):\\n\", array_3d)\n",
    "print(\"\\nArray 2D (5, 5):\\n\", array_2d)\n",
    "print(\"\\nResult of multiplication:\\n\", result)\n"
   ]
  },
  {
   "cell_type": "markdown",
   "id": "bac359a9",
   "metadata": {},
   "source": [
    "#### 72. How to swap two rows of an array? (★★★)"
   ]
  },
  {
   "cell_type": "code",
   "execution_count": 40,
   "id": "f1b432b1",
   "metadata": {},
   "outputs": [
    {
     "name": "stdout",
     "output_type": "stream",
     "text": [
      "Original array:\n",
      " [[1 2 3]\n",
      " [4 5 6]\n",
      " [7 8 9]]\n",
      "\n",
      "Array after swapping rows 0 and 2:\n",
      " [[7 8 9]\n",
      " [4 5 6]\n",
      " [1 2 3]]\n"
     ]
    }
   ],
   "source": [
    "import numpy as np\n",
    "\n",
    "# Create a sample 2D array\n",
    "arr = np.array([[1, 2, 3], [4, 5, 6], [7, 8, 9]])\n",
    "\n",
    "# Print the original array\n",
    "print(\"Original array:\\n\", arr)\n",
    "\n",
    "# Swap row 0 and row 2\n",
    "arr[[0, 2]] = arr[[2, 0]]\n",
    "\n",
    "# Print the modified array\n",
    "print(\"\\nArray after swapping rows 0 and 2:\\n\", arr)\n"
   ]
  },
  {
   "cell_type": "markdown",
   "id": "620c9f83",
   "metadata": {},
   "source": [
    "#### 73. Consider a set of 10 triplets describing 10 triangles (with shared vertices), find the set of unique line segments composing all the  triangles (★★★)"
   ]
  },
  {
   "cell_type": "code",
   "execution_count": 41,
   "id": "4e595ffc",
   "metadata": {},
   "outputs": [
    {
     "name": "stdout",
     "output_type": "stream",
     "text": [
      "Unique line segments composing all triangles:\n",
      "((0, 0), (0, 1))\n",
      "((0, 0), (1, 0))\n",
      "((0, 1), (0, 2))\n",
      "((0, 1), (1, 0))\n",
      "((0, 1), (1, 1))\n",
      "((0, 2), (0, 3))\n",
      "((0, 2), (1, 1))\n",
      "((0, 2), (1, 2))\n",
      "((0, 3), (0, 4))\n",
      "((0, 3), (1, 2))\n",
      "((0, 3), (1, 3))\n",
      "((0, 4), (0, 5))\n",
      "((0, 4), (1, 3))\n",
      "((0, 4), (1, 4))\n",
      "((0, 5), (1, 4))\n",
      "((0, 5), (1, 5))\n",
      "((1, 0), (1, 1))\n",
      "((1, 1), (1, 2))\n",
      "((1, 2), (1, 3))\n",
      "((1, 3), (1, 4))\n",
      "((1, 4), (1, 5))\n"
     ]
    }
   ],
   "source": [
    "import itertools\n",
    "\n",
    "# Sample set of 10 triangles, each described by a triplet of vertices (could be in 2D or 3D)\n",
    "triangles = [\n",
    "    [(0, 0), (1, 0), (0, 1)],  # Triangle 1\n",
    "    [(1, 0), (1, 1), (0, 1)],  # Triangle 2\n",
    "    [(0, 1), (1, 1), (0, 2)],  # Triangle 3\n",
    "    [(1, 1), (1, 2), (0, 2)],  # Triangle 4\n",
    "    [(0, 2), (1, 2), (0, 3)],  # Triangle 5\n",
    "    [(1, 2), (1, 3), (0, 3)],  # Triangle 6\n",
    "    [(0, 3), (1, 3), (0, 4)],  # Triangle 7\n",
    "    [(1, 3), (1, 4), (0, 4)],  # Triangle 8\n",
    "    [(0, 4), (1, 4), (0, 5)],  # Triangle 9\n",
    "    [(1, 4), (1, 5), (0, 5)]   # Triangle 10\n",
    "]\n",
    "\n",
    "# Step 1: Extract edges (unordered pairs of vertices)\n",
    "edges = set()\n",
    "for triangle in triangles:\n",
    "    for edge in itertools.combinations(triangle, 2):  # Get all pairs of vertices in the triangle\n",
    "        # Sort the edge to ensure (a, b) is the same as (b, a)\n",
    "        edges.add(tuple(sorted(edge)))\n",
    "\n",
    "# Step 2: The 'edges' set now contains all unique line segments\n",
    "print(\"Unique line segments composing all triangles:\")\n",
    "for edge in sorted(edges):\n",
    "    print(edge)\n"
   ]
  },
  {
   "cell_type": "markdown",
   "id": "a76c55a2",
   "metadata": {},
   "source": [
    "#### 74. Given a sorted array C that corresponds to a bincount, how to produce an array A such that np.bincount(A) == C? (★★★)"
   ]
  },
  {
   "cell_type": "code",
   "execution_count": 42,
   "id": "2d2ae65a",
   "metadata": {},
   "outputs": [
    {
     "name": "stdout",
     "output_type": "stream",
     "text": [
      "Array A: [1 1 2 3 3 3]\n",
      "Bincount of A: [0 2 1 3]\n"
     ]
    }
   ],
   "source": [
    "import numpy as np\n",
    "\n",
    "# Given bincount array C\n",
    "C = np.array([0, 2, 1, 3])\n",
    "\n",
    "# Step 1: Create an array A from C\n",
    "A = np.hstack([np.full(c, i) for i, c in enumerate(C)])\n",
    "\n",
    "# Step 2: Verify that np.bincount(A) equals C\n",
    "print(\"Array A:\", A)\n",
    "print(\"Bincount of A:\", np.bincount(A))\n"
   ]
  },
  {
   "cell_type": "markdown",
   "id": "d550c8e2",
   "metadata": {},
   "source": [
    "#### 75. How to compute averages using a sliding window over an array? (★★★)"
   ]
  },
  {
   "cell_type": "code",
   "execution_count": 43,
   "id": "841c457c",
   "metadata": {},
   "outputs": [
    {
     "name": "stdout",
     "output_type": "stream",
     "text": [
      "Sliding window averages: [2. 3. 4. 5. 6. 7. 8.]\n"
     ]
    }
   ],
   "source": [
    "import numpy as np\n",
    "\n",
    "def sliding_window_average(arr, window_size):\n",
    "    # Check if the window size is greater than the array size\n",
    "    if window_size > len(arr):\n",
    "        raise ValueError(\"Window size must be smaller or equal to array length\")\n",
    "    \n",
    "    # Initialize the result array\n",
    "    result = np.empty(len(arr) - window_size + 1)\n",
    "    \n",
    "    # Compute the sum of the first window\n",
    "    window_sum = np.sum(arr[:window_size])\n",
    "    result[0] = window_sum / window_size\n",
    "    \n",
    "    # Slide the window across the array\n",
    "    for i in range(1, len(arr) - window_size + 1):\n",
    "        # Update the window sum by subtracting the element that is leaving\n",
    "        # and adding the element that is entering the window\n",
    "        window_sum += arr[i + window_size - 1] - arr[i - 1]\n",
    "        result[i] = window_sum / window_size\n",
    "    \n",
    "    return result\n",
    "\n",
    "# Example usage\n",
    "arr = np.array([1, 2, 3, 4, 5, 6, 7, 8, 9])\n",
    "window_size = 3\n",
    "\n",
    "averages = sliding_window_average(arr, window_size)\n",
    "print(\"Sliding window averages:\", averages)\n"
   ]
  },
  {
   "cell_type": "markdown",
   "id": "6b170b00",
   "metadata": {},
   "source": [
    "#### 76. Consider a one-dimensional array Z, build a two-dimensional array whose first row is (Z[0],Z[1],Z[2]) and each subsequent row is  shifted by 1 (last row should be (Z[-3],Z[-2],Z[-1]) (★★★)"
   ]
  },
  {
   "cell_type": "code",
   "execution_count": 44,
   "id": "d9a0cf4e",
   "metadata": {},
   "outputs": [
    {
     "name": "stdout",
     "output_type": "stream",
     "text": [
      "Resulting 2D array:\n",
      " [[1 2 3]\n",
      " [2 3 4]\n",
      " [3 4 5]\n",
      " [4 5 6]\n",
      " [5 6 7]\n",
      " [6 7 8]\n",
      " [7 8 9]]\n"
     ]
    }
   ],
   "source": [
    "import numpy as np\n",
    "\n",
    "def build_shifted_array(Z):\n",
    "    # Check if the array has at least 3 elements\n",
    "    if len(Z) < 3:\n",
    "        raise ValueError(\"Array should have at least 3 elements\")\n",
    "\n",
    "    # Create a 2D array where each row is a shifted version of Z\n",
    "    result = np.array([Z[i:i+3] for i in range(len(Z) - 2)])\n",
    "\n",
    "    return result\n",
    "\n",
    "# Example usage\n",
    "Z = np.array([1, 2, 3, 4, 5, 6, 7, 8, 9])\n",
    "\n",
    "result = build_shifted_array(Z)\n",
    "print(\"Resulting 2D array:\\n\", result)\n"
   ]
  },
  {
   "cell_type": "markdown",
   "id": "e94a5c1d",
   "metadata": {},
   "source": [
    "#### 77. How to negate a boolean, or to change the sign of a float inplace? (★★★)"
   ]
  },
  {
   "cell_type": "code",
   "execution_count": 45,
   "id": "c0f9504f",
   "metadata": {},
   "outputs": [
    {
     "name": "stdout",
     "output_type": "stream",
     "text": [
      "[-1.2, -3.4, 5.6]\n"
     ]
    }
   ],
   "source": [
    "float_array = [1.2, -3.4, 5.6]\n",
    "float_array[0] = -float_array[0]  # In-place sign change of the first float\n",
    "print(float_array)  # Output: [-1.2, -3.4, 5.6]\n"
   ]
  },
  {
   "cell_type": "markdown",
   "id": "4eb8b5c1",
   "metadata": {},
   "source": [
    "#### 78. Consider 2 sets of points P0,P1 describing lines (2d) and a point p, how to compute distance from p to each line i (P0[i],P1[i])? (★★★)"
   ]
  },
  {
   "cell_type": "code",
   "execution_count": 46,
   "id": "487f47ec",
   "metadata": {},
   "outputs": [
    {
     "name": "stdout",
     "output_type": "stream",
     "text": [
      "Distances from point p to each line:\n",
      "[np.float64(2.0), np.float64(0.7276068751089989), np.float64(0.4472135954999579)]\n"
     ]
    }
   ],
   "source": [
    "import numpy as np\n",
    "\n",
    "# Function to compute the distance from a point p to a line defined by P0 and P1\n",
    "def point_to_line_distance(p, P0, P1):\n",
    "    # Extract coordinates of points\n",
    "    x0, y0 = P0\n",
    "    x1, y1 = P1\n",
    "    x, y = p\n",
    "    \n",
    "    # Calculate the numerator and denominator for the distance formula\n",
    "    numerator = abs((y1 - y0) * x - (x1 - x0) * y + x1 * y0 - y1 * x0)\n",
    "    denominator = np.sqrt((y1 - y0)**2 + (x1 - x0)**2)\n",
    "    \n",
    "    # Return the distance\n",
    "    return numerator / denominator\n",
    "\n",
    "# Example data\n",
    "P0 = np.array([[0, 0], [1, 1], [2, 3]])  # Set of points P0 (3 lines)\n",
    "P1 = np.array([[4, 0], [5, 2], [3, 5]])  # Set of points P1 (3 lines)\n",
    "p = np.array([2, 2])  # Point p\n",
    "\n",
    "# Compute distances for each line\n",
    "distances = [point_to_line_distance(p, P0[i], P1[i]) for i in range(len(P0))]\n",
    "\n",
    "print(\"Distances from point p to each line:\")\n",
    "print(distances)\n"
   ]
  },
  {
   "cell_type": "markdown",
   "id": "3df99948",
   "metadata": {},
   "source": [
    "#### 79. Consider 2 sets of points P0,P1 describing lines (2d) and a set of points P, how to compute distance from each point j (P[j]) to each line i (P0[i],P1[i])? (★★★)"
   ]
  },
  {
   "cell_type": "code",
   "execution_count": 47,
   "id": "dc2df37b",
   "metadata": {},
   "outputs": [
    {
     "name": "stdout",
     "output_type": "stream",
     "text": [
      "Distances from each point to each line:\n",
      "[[2.         0.72760688 0.4472136 ]\n",
      " [4.         2.42535625 0.4472136 ]\n",
      " [2.         0.9701425  0.4472136 ]]\n"
     ]
    }
   ],
   "source": [
    "import numpy as np\n",
    "\n",
    "# Function to compute the distance from point p to line defined by P0 and P1\n",
    "def point_to_line_distance(p, P0, P1):\n",
    "    x0, y0 = P0\n",
    "    x1, y1 = P1\n",
    "    x, y = p\n",
    "    \n",
    "    # Calculate the numerator and denominator for the distance formula\n",
    "    numerator = abs((y1 - y0) * x - (x1 - x0) * y + x1 * y0 - y1 * x0)\n",
    "    denominator = np.sqrt((y1 - y0)**2 + (x1 - x0)**2)\n",
    "    \n",
    "    # Return the distance\n",
    "    return numerator / denominator\n",
    "\n",
    "# Example data\n",
    "P0 = np.array([[0, 0], [1, 1], [2, 3]])  # Set of points P0 (3 lines)\n",
    "P1 = np.array([[4, 0], [5, 2], [3, 5]])  # Set of points P1 (3 lines)\n",
    "P = np.array([[2, 2], [3, 4], [1, 2]])  # Set of points P\n",
    "\n",
    "# Compute distances for each point P[j] to each line (P0[i], P1[i])\n",
    "distances = np.array([[point_to_line_distance(p, P0[i], P1[i]) for i in range(len(P0))] for p in P])\n",
    "\n",
    "print(\"Distances from each point to each line:\")\n",
    "print(distances)\n"
   ]
  },
  {
   "cell_type": "markdown",
   "id": "11e972c2",
   "metadata": {},
   "source": [
    "#### 80. Consider an arbitrary array, write a function that extract a subpart with a fixed shape and centered on a given element (pad with a `fill` value when necessary) (★★★)"
   ]
  },
  {
   "cell_type": "code",
   "execution_count": 48,
   "id": "0291247f",
   "metadata": {},
   "outputs": [
    {
     "name": "stdout",
     "output_type": "stream",
     "text": [
      "[[ 7  8  9]\n",
      " [12 13 14]\n",
      " [17 18 19]]\n"
     ]
    }
   ],
   "source": [
    "import numpy as np\n",
    "\n",
    "def extract_subarray(arr, center, shape, fill_value=0):\n",
    "    \"\"\"\n",
    "    Extract a subarray of the specified shape centered on the given element.\n",
    "\n",
    "    Parameters:\n",
    "    - arr: 2D numpy array from which to extract the subarray.\n",
    "    - center: Tuple (i, j) specifying the center of the subarray.\n",
    "    - shape: Tuple (height, width) specifying the shape of the subarray.\n",
    "    - fill_value: Value to pad with if the subarray extends beyond the array bounds.\n",
    "    \n",
    "    Returns:\n",
    "    - Subarray with the specified shape and centered around the given element.\n",
    "    \"\"\"\n",
    "    h, w = shape\n",
    "    i, j = center\n",
    "    pad_top = max(0, h // 2 - i)\n",
    "    pad_bottom = max(0, (i + h // 2 + 1) - arr.shape[0])\n",
    "    pad_left = max(0, w // 2 - j)\n",
    "    pad_right = max(0, (j + w // 2 + 1) - arr.shape[1])\n",
    "    \n",
    "    # Extract the desired subarray, considering padding\n",
    "    subarray = np.pad(arr[max(0, i - h // 2):min(arr.shape[0], i + h // 2 + 1),\n",
    "                         max(0, j - w // 2):min(arr.shape[1], j + w // 2 + 1)],\n",
    "                      ((pad_top, pad_bottom), (pad_left, pad_right)),\n",
    "                      constant_values=fill_value)\n",
    "\n",
    "    return subarray\n",
    "\n",
    "# Example usage\n",
    "arr = np.array([[1, 2, 3, 4, 5],\n",
    "                [6, 7, 8, 9, 10],\n",
    "                [11, 12, 13, 14, 15],\n",
    "                [16, 17, 18, 19, 20],\n",
    "                [21, 22, 23, 24, 25]])\n",
    "\n",
    "center = (2, 2)  # Center of subarray (i=2, j=2)\n",
    "shape = (3, 3)  # Subarray shape (3x3)\n",
    "fill_value = 0  # Fill value for padding\n",
    "\n",
    "subarray = extract_subarray(arr, center, shape, fill_value)\n",
    "print(subarray)\n"
   ]
  },
  {
   "cell_type": "markdown",
   "id": "93cfeab3",
   "metadata": {},
   "source": [
    "#### 81. Consider an array Z = [1,2,3,4,5,6,7,8,9,10,11,12,13,14], how to generate an array R = [[1,2,3,4], [2,3,4,5], [3,4,5,6], ..., [11,12,13,14]]? (★★★)"
   ]
  },
  {
   "cell_type": "code",
   "execution_count": 49,
   "id": "360de791",
   "metadata": {},
   "outputs": [
    {
     "name": "stdout",
     "output_type": "stream",
     "text": [
      "[[ 1  2  3  4]\n",
      " [ 2  3  4  5]\n",
      " [ 3  4  5  6]\n",
      " [ 4  5  6  7]\n",
      " [ 5  6  7  8]\n",
      " [ 6  7  8  9]\n",
      " [ 7  8  9 10]\n",
      " [ 8  9 10 11]\n",
      " [ 9 10 11 12]\n",
      " [10 11 12 13]\n",
      " [11 12 13 14]]\n"
     ]
    }
   ],
   "source": [
    "import numpy as np\n",
    "\n",
    "# Input array Z\n",
    "Z = np.array([1, 2, 3, 4, 5, 6, 7, 8, 9, 10, 11, 12, 13, 14])\n",
    "\n",
    "# Window size\n",
    "window_size = 4\n",
    "\n",
    "# Use a sliding window approach to create the 2D array R\n",
    "R = np.array([Z[i:i+window_size] for i in range(len(Z) - window_size + 1)])\n",
    "\n",
    "print(R)\n"
   ]
  },
  {
   "cell_type": "markdown",
   "id": "4c15ceff",
   "metadata": {},
   "source": [
    "#### 82. Compute a matrix rank (★★★)"
   ]
  },
  {
   "cell_type": "code",
   "execution_count": 50,
   "id": "9a4272d2",
   "metadata": {},
   "outputs": [
    {
     "name": "stdout",
     "output_type": "stream",
     "text": [
      "Rank of the matrix: 2\n"
     ]
    }
   ],
   "source": [
    "import numpy as np\n",
    "\n",
    "# Example matrix\n",
    "A = np.array([[1, 2, 3], \n",
    "              [4, 5, 6], \n",
    "              [7, 8, 9]])\n",
    "\n",
    "# Compute the rank of the matrix\n",
    "rank = np.linalg.matrix_rank(A)\n",
    "\n",
    "print(\"Rank of the matrix:\", rank)\n"
   ]
  },
  {
   "cell_type": "markdown",
   "id": "1171cb84",
   "metadata": {},
   "source": [
    "#### 83. How to find the most frequent value in an array?"
   ]
  },
  {
   "cell_type": "code",
   "execution_count": 51,
   "id": "33e951c8",
   "metadata": {},
   "outputs": [
    {
     "name": "stdout",
     "output_type": "stream",
     "text": [
      "Most frequent value: 3\n"
     ]
    }
   ],
   "source": [
    "import numpy as np\n",
    "\n",
    "# Example integer array\n",
    "arr = np.array([1, 2, 2, 3, 3, 3, 4, 5, 5, 6])\n",
    "\n",
    "# Find the most frequent value using bincount\n",
    "most_frequent_value = np.bincount(arr).argmax()\n",
    "\n",
    "print(\"Most frequent value:\", most_frequent_value)\n"
   ]
  },
  {
   "cell_type": "markdown",
   "id": "04f472aa",
   "metadata": {},
   "source": [
    "#### 84. Extract all the contiguous 3x3 blocks from a random 10x10 matrix (★★★)"
   ]
  },
  {
   "cell_type": "code",
   "execution_count": 52,
   "id": "7aade14a",
   "metadata": {},
   "outputs": [
    {
     "name": "stdout",
     "output_type": "stream",
     "text": [
      "10x10 Matrix:\n",
      "[[4 9 8 8 7 6 8 5 3 1]\n",
      " [6 2 6 8 5 7 1 6 3 1]\n",
      " [3 3 3 1 6 2 3 5 9 2]\n",
      " [5 7 9 7 2 1 3 9 5 9]\n",
      " [8 4 6 8 9 2 3 7 4 8]\n",
      " [1 9 7 5 8 8 8 1 4 9]\n",
      " [5 5 4 3 1 3 7 3 5 4]\n",
      " [7 2 5 4 2 8 1 6 6 6]\n",
      " [1 3 5 6 7 5 4 6 4 7]\n",
      " [5 2 5 4 8 2 7 2 4 2]]\n",
      "\n",
      "Extracted 3x3 Blocks:\n",
      "[[4 9 8]\n",
      " [6 2 6]\n",
      " [3 3 3]]\n",
      "\n",
      "[[9 8 8]\n",
      " [2 6 8]\n",
      " [3 3 1]]\n",
      "\n",
      "[[8 8 7]\n",
      " [6 8 5]\n",
      " [3 1 6]]\n",
      "\n",
      "[[8 7 6]\n",
      " [8 5 7]\n",
      " [1 6 2]]\n",
      "\n",
      "[[7 6 8]\n",
      " [5 7 1]\n",
      " [6 2 3]]\n",
      "\n",
      "[[6 8 5]\n",
      " [7 1 6]\n",
      " [2 3 5]]\n",
      "\n",
      "[[8 5 3]\n",
      " [1 6 3]\n",
      " [3 5 9]]\n",
      "\n",
      "[[5 3 1]\n",
      " [6 3 1]\n",
      " [5 9 2]]\n",
      "\n",
      "[[6 2 6]\n",
      " [3 3 3]\n",
      " [5 7 9]]\n",
      "\n",
      "[[2 6 8]\n",
      " [3 3 1]\n",
      " [7 9 7]]\n",
      "\n",
      "[[6 8 5]\n",
      " [3 1 6]\n",
      " [9 7 2]]\n",
      "\n",
      "[[8 5 7]\n",
      " [1 6 2]\n",
      " [7 2 1]]\n",
      "\n",
      "[[5 7 1]\n",
      " [6 2 3]\n",
      " [2 1 3]]\n",
      "\n",
      "[[7 1 6]\n",
      " [2 3 5]\n",
      " [1 3 9]]\n",
      "\n",
      "[[1 6 3]\n",
      " [3 5 9]\n",
      " [3 9 5]]\n",
      "\n",
      "[[6 3 1]\n",
      " [5 9 2]\n",
      " [9 5 9]]\n",
      "\n",
      "[[3 3 3]\n",
      " [5 7 9]\n",
      " [8 4 6]]\n",
      "\n",
      "[[3 3 1]\n",
      " [7 9 7]\n",
      " [4 6 8]]\n",
      "\n",
      "[[3 1 6]\n",
      " [9 7 2]\n",
      " [6 8 9]]\n",
      "\n",
      "[[1 6 2]\n",
      " [7 2 1]\n",
      " [8 9 2]]\n",
      "\n",
      "[[6 2 3]\n",
      " [2 1 3]\n",
      " [9 2 3]]\n",
      "\n",
      "[[2 3 5]\n",
      " [1 3 9]\n",
      " [2 3 7]]\n",
      "\n",
      "[[3 5 9]\n",
      " [3 9 5]\n",
      " [3 7 4]]\n",
      "\n",
      "[[5 9 2]\n",
      " [9 5 9]\n",
      " [7 4 8]]\n",
      "\n",
      "[[5 7 9]\n",
      " [8 4 6]\n",
      " [1 9 7]]\n",
      "\n",
      "[[7 9 7]\n",
      " [4 6 8]\n",
      " [9 7 5]]\n",
      "\n",
      "[[9 7 2]\n",
      " [6 8 9]\n",
      " [7 5 8]]\n",
      "\n",
      "[[7 2 1]\n",
      " [8 9 2]\n",
      " [5 8 8]]\n",
      "\n",
      "[[2 1 3]\n",
      " [9 2 3]\n",
      " [8 8 8]]\n",
      "\n",
      "[[1 3 9]\n",
      " [2 3 7]\n",
      " [8 8 1]]\n",
      "\n",
      "[[3 9 5]\n",
      " [3 7 4]\n",
      " [8 1 4]]\n",
      "\n",
      "[[9 5 9]\n",
      " [7 4 8]\n",
      " [1 4 9]]\n",
      "\n",
      "[[8 4 6]\n",
      " [1 9 7]\n",
      " [5 5 4]]\n",
      "\n",
      "[[4 6 8]\n",
      " [9 7 5]\n",
      " [5 4 3]]\n",
      "\n",
      "[[6 8 9]\n",
      " [7 5 8]\n",
      " [4 3 1]]\n",
      "\n",
      "[[8 9 2]\n",
      " [5 8 8]\n",
      " [3 1 3]]\n",
      "\n",
      "[[9 2 3]\n",
      " [8 8 8]\n",
      " [1 3 7]]\n",
      "\n",
      "[[2 3 7]\n",
      " [8 8 1]\n",
      " [3 7 3]]\n",
      "\n",
      "[[3 7 4]\n",
      " [8 1 4]\n",
      " [7 3 5]]\n",
      "\n",
      "[[7 4 8]\n",
      " [1 4 9]\n",
      " [3 5 4]]\n",
      "\n",
      "[[1 9 7]\n",
      " [5 5 4]\n",
      " [7 2 5]]\n",
      "\n",
      "[[9 7 5]\n",
      " [5 4 3]\n",
      " [2 5 4]]\n",
      "\n",
      "[[7 5 8]\n",
      " [4 3 1]\n",
      " [5 4 2]]\n",
      "\n",
      "[[5 8 8]\n",
      " [3 1 3]\n",
      " [4 2 8]]\n",
      "\n",
      "[[8 8 8]\n",
      " [1 3 7]\n",
      " [2 8 1]]\n",
      "\n",
      "[[8 8 1]\n",
      " [3 7 3]\n",
      " [8 1 6]]\n",
      "\n",
      "[[8 1 4]\n",
      " [7 3 5]\n",
      " [1 6 6]]\n",
      "\n",
      "[[1 4 9]\n",
      " [3 5 4]\n",
      " [6 6 6]]\n",
      "\n",
      "[[5 5 4]\n",
      " [7 2 5]\n",
      " [1 3 5]]\n",
      "\n",
      "[[5 4 3]\n",
      " [2 5 4]\n",
      " [3 5 6]]\n",
      "\n",
      "[[4 3 1]\n",
      " [5 4 2]\n",
      " [5 6 7]]\n",
      "\n",
      "[[3 1 3]\n",
      " [4 2 8]\n",
      " [6 7 5]]\n",
      "\n",
      "[[1 3 7]\n",
      " [2 8 1]\n",
      " [7 5 4]]\n",
      "\n",
      "[[3 7 3]\n",
      " [8 1 6]\n",
      " [5 4 6]]\n",
      "\n",
      "[[7 3 5]\n",
      " [1 6 6]\n",
      " [4 6 4]]\n",
      "\n",
      "[[3 5 4]\n",
      " [6 6 6]\n",
      " [6 4 7]]\n",
      "\n",
      "[[7 2 5]\n",
      " [1 3 5]\n",
      " [5 2 5]]\n",
      "\n",
      "[[2 5 4]\n",
      " [3 5 6]\n",
      " [2 5 4]]\n",
      "\n",
      "[[5 4 2]\n",
      " [5 6 7]\n",
      " [5 4 8]]\n",
      "\n",
      "[[4 2 8]\n",
      " [6 7 5]\n",
      " [4 8 2]]\n",
      "\n",
      "[[2 8 1]\n",
      " [7 5 4]\n",
      " [8 2 7]]\n",
      "\n",
      "[[8 1 6]\n",
      " [5 4 6]\n",
      " [2 7 2]]\n",
      "\n",
      "[[1 6 6]\n",
      " [4 6 4]\n",
      " [7 2 4]]\n",
      "\n",
      "[[6 6 6]\n",
      " [6 4 7]\n",
      " [2 4 2]]\n",
      "\n"
     ]
    }
   ],
   "source": [
    "import numpy as np\n",
    "\n",
    "# Create a random 10x10 matrix\n",
    "matrix = np.random.randint(1, 10, size=(10, 10))\n",
    "\n",
    "# Initialize an empty list to store the 3x3 blocks\n",
    "blocks = []\n",
    "\n",
    "# Extract all 3x3 blocks\n",
    "for i in range(8):  # row indices from 0 to 7\n",
    "    for j in range(8):  # column indices from 0 to 7\n",
    "        block = matrix[i:i+3, j:j+3]  # Extract the 3x3 block\n",
    "        blocks.append(block)\n",
    "\n",
    "# Display the 10x10 matrix and the extracted blocks\n",
    "print(\"10x10 Matrix:\")\n",
    "print(matrix)\n",
    "print(\"\\nExtracted 3x3 Blocks:\")\n",
    "for block in blocks:\n",
    "    print(block)\n",
    "    print()\n"
   ]
  },
  {
   "cell_type": "markdown",
   "id": "52836346",
   "metadata": {},
   "source": [
    "#### 85. Create a 2D array subclass such that Z[i,j] == Z[j,i] (★★★)"
   ]
  },
  {
   "cell_type": "code",
   "execution_count": 53,
   "id": "4df70318",
   "metadata": {},
   "outputs": [
    {
     "name": "stdout",
     "output_type": "stream",
     "text": [
      "[[0. 5. 0.]\n",
      " [5. 0. 3.]\n",
      " [0. 3. 0.]]\n",
      "Z[1, 0] = 5.0\n",
      "Z[2, 1] = 3.0\n"
     ]
    }
   ],
   "source": [
    "import numpy as np\n",
    "\n",
    "class SymmetricArray(np.ndarray):\n",
    "    def __new__(cls, shape, dtype=float, buffer=None, offset=0, strides=None, order=None):\n",
    "        # Create the new instance\n",
    "        obj = super().__new__(cls, shape, dtype, buffer, offset, strides, order)\n",
    "        return obj\n",
    "\n",
    "    def __getitem__(self, index):\n",
    "        i, j = index\n",
    "        # Ensure symmetry: return the same value for (i,j) and (j,i)\n",
    "        return super().__getitem__((i, j)) if i <= j else super().__getitem__((j, i))\n",
    "\n",
    "    def __setitem__(self, index, value):\n",
    "        i, j = index\n",
    "        # Ensure symmetry: set both (i,j) and (j,i) to the same value\n",
    "        super().__setitem__((i, j), value)\n",
    "        if i != j:\n",
    "            super().__setitem__((j, i), value)\n",
    "\n",
    "# Create a 3x3 symmetric array\n",
    "Z = np.zeros((3, 3), dtype=float).view(SymmetricArray)\n",
    "\n",
    "# Set some values\n",
    "Z[0, 1] = 5\n",
    "Z[1, 2] = 3\n",
    "\n",
    "# Access the symmetric elements\n",
    "print(Z)\n",
    "print(f\"Z[1, 0] = {Z[1, 0]}\")  # Should be equal to Z[0, 1]\n",
    "print(f\"Z[2, 1] = {Z[2, 1]}\")  # Should be equal to Z[1, 2]\n"
   ]
  },
  {
   "cell_type": "markdown",
   "id": "78c43ee5",
   "metadata": {},
   "source": [
    "#### 86. Consider a set of p matrices with shape (n,n) and a set of p vectors with shape (n,1). How to compute the sum of of the p matrix products at once? (result has shape (n,1)) (★★★)"
   ]
  },
  {
   "cell_type": "code",
   "execution_count": 54,
   "id": "32fd2c3b",
   "metadata": {},
   "outputs": [
    {
     "name": "stdout",
     "output_type": "stream",
     "text": [
      "Result of sum of matrix-vector products:\n",
      "[[4.08918322]\n",
      " [3.68213168]\n",
      " [3.43754734]\n",
      " [3.60081537]]\n"
     ]
    }
   ],
   "source": [
    "import numpy as np\n",
    "\n",
    "# Set n and p\n",
    "n = 4  # Example size of matrix and vector (can be changed)\n",
    "p = 3  # Number of matrices and vectors\n",
    "\n",
    "# Generate p random matrices of shape (n, n) and p random vectors of shape (n, 1)\n",
    "matrices = np.random.rand(p, n, n)\n",
    "vectors = np.random.rand(p, n, 1)\n",
    "\n",
    "# Compute the sum of matrix-vector products\n",
    "result = np.sum(np.matmul(matrices, vectors), axis=0)\n",
    "\n",
    "# Display the result\n",
    "print(\"Result of sum of matrix-vector products:\")\n",
    "print(result)\n"
   ]
  },
  {
   "cell_type": "markdown",
   "id": "158f9945",
   "metadata": {},
   "source": [
    "#### 87. Consider a 16x16 array, how to get the block-sum (block size is 4x4)? (★★★)"
   ]
  },
  {
   "cell_type": "code",
   "execution_count": 55,
   "id": "5a9b808f",
   "metadata": {},
   "outputs": [
    {
     "name": "stdout",
     "output_type": "stream",
     "text": [
      "Original 16x16 array:\n",
      "[[0.8448587  0.53830866 0.7999575  0.40700074 0.77148638 0.97514353\n",
      "  0.58650129 0.8038048  0.48677122 0.89764289 0.14262805 0.28151507\n",
      "  0.67342254 0.81589338 0.83937815 0.8402222 ]\n",
      " [0.21228061 0.19663378 0.87610504 0.69048932 0.30805446 0.9312903\n",
      "  0.29794217 0.36027595 0.21762078 0.82003428 0.36821121 0.05872829\n",
      "  0.71440952 0.78360547 0.2837788  0.05101575]\n",
      " [0.45150776 0.27645987 0.03027608 0.57255811 0.35250373 0.02230305\n",
      "  0.24004453 0.76191233 0.25709929 0.39228716 0.81451665 0.53838869\n",
      "  0.13452621 0.40291863 0.46329133 0.93876724]\n",
      " [0.7679242  0.66441845 0.71798397 0.6957483  0.6200586  0.00304952\n",
      "  0.43204423 0.33158464 0.8423579  0.5164812  0.85057447 0.8418488\n",
      "  0.92257243 0.26725641 0.074964   0.28813189]\n",
      " [0.02987416 0.527597   0.8974024  0.69607582 0.12549163 0.84791392\n",
      "  0.94140955 0.52971151 0.71172084 0.04815926 0.63885231 0.85423589\n",
      "  0.48050907 0.41709379 0.98835993 0.73780981]\n",
      " [0.66801899 0.33798985 0.87578781 0.55267142 0.5750511  0.09301268\n",
      "  0.31777169 0.22229735 0.78072151 0.74467939 0.49411283 0.57490091\n",
      "  0.87084963 0.52908465 0.90220709 0.78130796]\n",
      " [0.65475461 0.73831713 0.38202918 0.33139719 0.35868671 0.21055826\n",
      "  0.1104453  0.52998513 0.93179975 0.10800994 0.43988892 0.65442484\n",
      "  0.91014271 0.6886361  0.16821196 0.61469583]\n",
      " [0.1012326  0.66506    0.25524388 0.48006468 0.37130093 0.71034091\n",
      "  0.12422377 0.71276524 0.05558011 0.77319509 0.96054845 0.04145556\n",
      "  0.01880274 0.01581909 0.61474788 0.43402084]\n",
      " [0.45159807 0.00731688 0.91278094 0.98428985 0.88553804 0.2047567\n",
      "  0.15100376 0.57456446 0.97594435 0.18161592 0.36206951 0.6928847\n",
      "  0.22183969 0.14287154 0.89226991 0.61712098]\n",
      " [0.43284529 0.74568007 0.88957938 0.60581487 0.61841295 0.02056337\n",
      "  0.13296797 0.43781696 0.92258572 0.06359062 0.7796412  0.98159256\n",
      "  0.68501919 0.71578053 0.38948802 0.23704087]\n",
      " [0.03810296 0.13018691 0.3421293  0.21183757 0.22077676 0.72079486\n",
      "  0.13609276 0.41653112 0.46248501 0.99858704 0.96892522 0.94391087\n",
      "  0.73822307 0.46603709 0.389397   0.61857212]\n",
      " [0.08567922 0.65684392 0.20386498 0.43365831 0.06312297 0.27285359\n",
      "  0.74088943 0.96368171 0.10323277 0.04602011 0.55142878 0.78196249\n",
      "  0.39055434 0.06242528 0.80727318 0.56177047]\n",
      " [0.23629548 0.40924438 0.60403551 0.08117717 0.29215765 0.86504437\n",
      "  0.39077815 0.32956786 0.30056673 0.42064251 0.33291311 0.45875523\n",
      "  0.18409237 0.50764888 0.12687537 0.24947004]\n",
      " [0.91943186 0.01016881 0.90876305 0.63072718 0.57991295 0.80986487\n",
      "  0.20581794 0.96162445 0.85527329 0.23600641 0.44459167 0.94196519\n",
      "  0.31797807 0.11238088 0.96406875 0.37187737]\n",
      " [0.53295775 0.40100769 0.20467514 0.11323302 0.25709216 0.15511582\n",
      "  0.13351739 0.81857202 0.77710595 0.15406784 0.8187425  0.7462508\n",
      "  0.64019574 0.94654442 0.35960268 0.29442061]\n",
      " [0.79466418 0.04632385 0.76920403 0.62847656 0.68069649 0.12075725\n",
      "  0.66309043 0.03752421 0.34054366 0.19440915 0.34167262 0.79379407\n",
      "  0.57156736 0.19906172 0.16959988 0.43453738]]\n",
      "\n",
      "Block-sum (4x4 blocks):\n",
      "[[10.70453511  7.17047575  6.64936065  8.83699901]\n",
      " [ 9.4722169   9.32046488  7.83198354  6.33440176]\n",
      " [ 8.2584653   8.65841957  7.80258966  6.72526156]\n",
      " [ 5.7892648   9.27045274  7.35310154  6.78592284]]\n"
     ]
    }
   ],
   "source": [
    "import numpy as np\n",
    "\n",
    "# Create a 16x16 random array\n",
    "arr = np.random.rand(16, 16)\n",
    "\n",
    "# Reshape the array into 4x4 blocks\n",
    "block_sum = arr.reshape(4, 4, 4, 4).sum(axis=(2, 3))\n",
    "\n",
    "# Display the result\n",
    "print(\"Original 16x16 array:\")\n",
    "print(arr)\n",
    "print(\"\\nBlock-sum (4x4 blocks):\")\n",
    "print(block_sum)\n"
   ]
  },
  {
   "cell_type": "markdown",
   "id": "2e0ad860",
   "metadata": {},
   "source": [
    "#### 88. How to implement the Game of Life using numpy arrays? (★★★)"
   ]
  },
  {
   "cell_type": "code",
   "execution_count": 56,
   "id": "574acff5",
   "metadata": {},
   "outputs": [
    {
     "data": {
      "image/png": "[encoded data removed]",
      "text/plain": [
       "<Figure size 640x480 with 1 Axes>"
      ]
     },
     "metadata": {},
     "output_type": "display_data"
    }
   ],
   "source": [
    "import numpy as np\n",
    "import matplotlib.pyplot as plt\n",
    "import matplotlib.animation as animation\n",
    "\n",
    "# Define the size of the grid\n",
    "n = 10  # Grid size (10x10 grid)\n",
    "\n",
    "# Initialize a random grid (1 for alive, 0 for dead)\n",
    "def random_grid(n):\n",
    "    return np.random.choice([0, 1], size=(n, n))\n",
    "\n",
    "# Define the Game of Life rules\n",
    "def game_of_life(grid):\n",
    "    # Create an empty grid to store the next state\n",
    "    next_state = np.zeros_like(grid)\n",
    "    \n",
    "    # Get the number of rows and columns\n",
    "    rows, cols = grid.shape\n",
    "    \n",
    "    # Iterate through each cell in the grid\n",
    "    for row in range(rows):\n",
    "        for col in range(cols):\n",
    "            # Get the sum of the 8 neighbors (using wrapping boundary conditions)\n",
    "            total_neighbors = np.sum(grid[(row-1)%rows:(row+2)%rows, (col-1)%cols:(col+2)%cols]) - grid[row, col]\n",
    "            \n",
    "            # Apply the Game of Life rules\n",
    "            if grid[row, col] == 1:  # Cell is alive\n",
    "                if total_neighbors < 2 or total_neighbors > 3:\n",
    "                    next_state[row, col] = 0  # Dies\n",
    "                else:\n",
    "                    next_state[row, col] = 1  # Stays alive\n",
    "            else:  # Cell is dead\n",
    "                if total_neighbors == 3:\n",
    "                    next_state[row, col] = 1  # Becomes alive\n",
    "                \n",
    "    return next_state\n",
    "\n",
    "# Set up the plot for animation\n",
    "fig, ax = plt.subplots()\n",
    "grid = random_grid(n)\n",
    "im = ax.imshow(grid, cmap=\"binary\")\n",
    "\n",
    "def update(frame):\n",
    "    global grid\n",
    "    grid = game_of_life(grid)  # Compute next state\n",
    "    im.set_data(grid)  # Update the plot\n",
    "    return [im]\n",
    "\n",
    "# Create an animation to visualize the Game of Life\n",
    "ani = animation.FuncAnimation(fig, update, frames=50, interval=200, blit=True)\n",
    "\n",
    "plt.show()\n"
   ]
  },
  {
   "cell_type": "markdown",
   "id": "69a892fa",
   "metadata": {},
   "source": [
    "#### 89. How to get the n largest values of an array (★★★)"
   ]
  },
  {
   "cell_type": "code",
   "execution_count": 57,
   "id": "21b2bd48",
   "metadata": {},
   "outputs": [
    {
     "name": "stdout",
     "output_type": "stream",
     "text": [
      "Original array: [0.68542925 0.5544113  0.41955858 0.06473525 0.60474495 0.6179877\n",
      " 0.60947503 0.42110169 0.31363211 0.48405174]\n",
      "Top 3 largest values: [0.68542925 0.6179877  0.60947503]\n"
     ]
    }
   ],
   "source": [
    "import numpy as np\n",
    "\n",
    "# Create a random array\n",
    "arr = np.random.rand(10)  # Example array with 10 elements\n",
    "\n",
    "# Get the n largest values (let's say n = 3)\n",
    "n = 3\n",
    "largest_values = np.sort(arr)[-n:][::-1]\n",
    "\n",
    "print(\"Original array:\", arr)\n",
    "print(f\"Top {n} largest values:\", largest_values)\n"
   ]
  },
  {
   "cell_type": "markdown",
   "id": "b55ccacc",
   "metadata": {},
   "source": [
    "#### 90. Given an arbitrary number of vectors, build the cartesian product (every combinations of every item) (★★★)"
   ]
  },
  {
   "cell_type": "code",
   "execution_count": 58,
   "id": "4b645da4",
   "metadata": {},
   "outputs": [
    {
     "name": "stdout",
     "output_type": "stream",
     "text": [
      "Cartesian product: [(1, 3, 'a'), (1, 3, 'b'), (1, 4, 'a'), (1, 4, 'b'), (2, 3, 'a'), (2, 3, 'b'), (2, 4, 'a'), (2, 4, 'b')]\n"
     ]
    }
   ],
   "source": [
    "import itertools\n",
    "\n",
    "# Define an arbitrary number of vectors (lists)\n",
    "vectors = [\n",
    "    [1, 2],         # First vector\n",
    "    [3, 4],         # Second vector\n",
    "    ['a', 'b'],     # Third vector\n",
    "]\n",
    "\n",
    "# Compute the cartesian product\n",
    "cartesian_product = list(itertools.product(*vectors))\n",
    "\n",
    "# Display the result\n",
    "print(\"Cartesian product:\", cartesian_product)\n"
   ]
  },
  {
   "cell_type": "markdown",
   "id": "89187a23",
   "metadata": {},
   "source": [
    "#### 91. How to create a record array from a regular array? (★★★)"
   ]
  },
  {
   "cell_type": "code",
   "execution_count": 5,
   "id": "da94c71a",
   "metadata": {},
   "outputs": [
    {
     "name": "stdout",
     "output_type": "stream",
     "text": [
      "[('Alice', 25, 5.5) ('Bob', 30, 6. ) ('Charlie', 35, 5.8)]\n",
      "['Alice' 'Bob' 'Charlie']\n",
      "[25 30 35]\n",
      "[5.5 6.  5.8]\n"
     ]
    },
    {
     "name": "stderr",
     "output_type": "stream",
     "text": [
      "C:\\Users\\sudheer kumar\\AppData\\Local\\Temp\\ipykernel_21720\\3544460509.py:9: DeprecationWarning: numpy.core is deprecated and has been renamed to numpy._core. The numpy._core namespace contains private NumPy internals and its use is discouraged, as NumPy internals can change without warning in any release. In practice, most real-world usage of numpy.core is to access functionality in the public NumPy API. If that is the case, use the public NumPy API. If not, you are using NumPy internals. If you would still like to access an internal attribute, use numpy._core.records.\n",
      "  record_array = np.core.records.fromarrays([names, ages, heights], names='name, age, height')\n"
     ]
    }
   ],
   "source": [
    "\n",
    "import numpy as np\n",
    "\n",
    "# Regular (ndarray) arrays\n",
    "names = np.array(['Alice', 'Bob', 'Charlie'])\n",
    "ages = np.array([25, 30, 35])\n",
    "heights = np.array([5.5, 6.0, 5.8])\n",
    "\n",
    "# Create a record array from the regular arrays\n",
    "record_array = np.core.records.fromarrays([names, ages, heights], names='name, age, height')\n",
    "\n",
    "# Output the record array\n",
    "print(record_array)\n",
    "\n",
    "# Accessing fields using the field names\n",
    "print(record_array.name)    # ['Alice' 'Bob' 'Charlie']\n",
    "print(record_array.age)     # [25 30 35]\n",
    "print(record_array.height)  # [5.5 6.  5.8]\n",
    "\n"
   ]
  },
  {
   "cell_type": "markdown",
   "id": "aa70d4ca",
   "metadata": {},
   "source": [
    "#### 92. Consider a large vector Z, compute Z to the power of 3 using 3 different methods (★★★)"
   ]
  },
  {
   "cell_type": "code",
   "execution_count": 61,
   "id": "7cff1bf5",
   "metadata": {},
   "outputs": [
    {
     "name": "stdout",
     "output_type": "stream",
     "text": [
      "True\n",
      "True\n"
     ]
    }
   ],
   "source": [
    "import numpy as np\n",
    "\n",
    "# Create a large vector Z (let's use 10 million elements as an example)\n",
    "Z = np.random.rand(10**7)\n",
    "\n",
    "# Method 1: Element-wise exponentiation using `**`\n",
    "Z_cubed_1 = Z**3\n",
    "\n",
    "# Method 2: Using numpy's `power()` function\n",
    "Z_cubed_2 = np.power(Z, 3)\n",
    "\n",
    "# Method 3: Using a loop (for demonstration purposes)\n",
    "Z_cubed_3 = np.array([z**3 for z in Z])\n",
    "\n",
    "# Verify the results (all methods should produce the same result)\n",
    "print(np.allclose(Z_cubed_1, Z_cubed_2))  # True\n",
    "print(np.allclose(Z_cubed_1, Z_cubed_3))  # True\n"
   ]
  },
  {
   "cell_type": "markdown",
   "id": "5f79dd00",
   "metadata": {},
   "source": [
    "#### 93. Consider two arrays A and B of shape (8,3) and (2,2). How to find rows of A that contain elements of each row of B regardless of the order of the elements in B? (★★★)"
   ]
  },
  {
   "cell_type": "code",
   "execution_count": 62,
   "id": "20c105b2",
   "metadata": {},
   "outputs": [
    {
     "name": "stdout",
     "output_type": "stream",
     "text": [
      "Rows of A that contain elements of each row of B: [0 2 3 4 6 7]\n"
     ]
    }
   ],
   "source": [
    "import numpy as np\n",
    "\n",
    "# Create example arrays A and B\n",
    "A = np.array([[1, 2, 3],\n",
    "              [4, 5, 6],\n",
    "              [7, 8, 9],\n",
    "              [1, 3, 2],\n",
    "              [9, 7, 8],\n",
    "              [6, 4, 5],\n",
    "              [3, 2, 1],\n",
    "              [8, 9, 7]])\n",
    "\n",
    "B = np.array([[2, 3],\n",
    "              [7, 8]])\n",
    "\n",
    "# Function to find rows of A that contain elements from each row of B\n",
    "def find_rows_containing_elements(A, B):\n",
    "    # List to store indices of rows in A that satisfy the condition\n",
    "    valid_rows = []\n",
    "    \n",
    "    # For each row in B, find matching rows in A\n",
    "    for b_row in B:\n",
    "        # Convert b_row to a set\n",
    "        b_set = set(b_row)\n",
    "        \n",
    "        # Check which rows of A contain all elements of b_row\n",
    "        for idx, a_row in enumerate(A):\n",
    "            if b_set.issubset(set(a_row)):\n",
    "                valid_rows.append(idx)\n",
    "                \n",
    "    # Return the unique indices of rows that satisfy the condition\n",
    "    return np.unique(valid_rows)\n",
    "\n",
    "# Find the rows of A that satisfy the condition\n",
    "result = find_rows_containing_elements(A, B)\n",
    "\n",
    "# Display the result\n",
    "print(\"Rows of A that contain elements of each row of B:\", result)\n"
   ]
  },
  {
   "cell_type": "markdown",
   "id": "a80570cd",
   "metadata": {},
   "source": [
    "#### 94. Considering a 10x3 matrix, extract rows with unequal values (e.g. [2,2,3]) (★★★)"
   ]
  },
  {
   "cell_type": "code",
   "execution_count": 63,
   "id": "84db8de1",
   "metadata": {},
   "outputs": [
    {
     "name": "stdout",
     "output_type": "stream",
     "text": [
      "Rows with unequal values:\n",
      "[[1 2 3]\n",
      " [4 5 6]\n",
      " [1 3 2]\n",
      " [6 7 8]\n",
      " [2 3 4]]\n"
     ]
    }
   ],
   "source": [
    "import numpy as np\n",
    "\n",
    "# Create a 10x3 matrix (example)\n",
    "matrix = np.array([[1, 2, 3],\n",
    "                   [2, 2, 3],\n",
    "                   [4, 5, 6],\n",
    "                   [7, 7, 7],\n",
    "                   [1, 3, 2],\n",
    "                   [5, 5, 5],\n",
    "                   [6, 7, 8],\n",
    "                   [9, 9, 9],\n",
    "                   [2, 3, 4],\n",
    "                   [6, 5, 6]])\n",
    "\n",
    "# Function to extract rows with unequal values\n",
    "def extract_unequal_rows(matrix):\n",
    "    # Check for rows where the number of unique values is equal to the length of the row\n",
    "    unequal_rows = [row for row in matrix if len(set(row)) == len(row)]\n",
    "    return np.array(unequal_rows)\n",
    "\n",
    "# Extract rows with unequal values\n",
    "result = extract_unequal_rows(matrix)\n",
    "\n",
    "# Display the result\n",
    "print(\"Rows with unequal values:\")\n",
    "print(result)\n"
   ]
  },
  {
   "cell_type": "markdown",
   "id": "ba154f43",
   "metadata": {},
   "source": []
  },
  {
   "cell_type": "code",
   "execution_count": null,
   "id": "cfa96e1b",
   "metadata": {},
   "outputs": [],
   "source": []
  },
  {
   "cell_type": "markdown",
   "id": "420e2343",
   "metadata": {},
   "source": [
    "#### 96. Given a two dimensional array, how to extract unique rows? (★★★)"
   ]
  },
  {
   "cell_type": "code",
   "execution_count": 64,
   "id": "4680dfd0",
   "metadata": {},
   "outputs": [
    {
     "name": "stdout",
     "output_type": "stream",
     "text": [
      "Unique rows:\n",
      "[[ 1  2  3]\n",
      " [ 4  5  6]\n",
      " [ 7  8  9]\n",
      " [10 11 12]]\n"
     ]
    }
   ],
   "source": [
    "import numpy as np\n",
    "\n",
    "# Create a sample 2D numpy array\n",
    "arr = np.array([[1, 2, 3],\n",
    "                [4, 5, 6],\n",
    "                [1, 2, 3],\n",
    "                [7, 8, 9],\n",
    "                [4, 5, 6],\n",
    "                [10, 11, 12]])\n",
    "\n",
    "# Extract unique rows using numpy's unique function\n",
    "unique_rows = np.unique(arr, axis=0)\n",
    "\n",
    "# Display the result\n",
    "print(\"Unique rows:\")\n",
    "print(unique_rows)\n"
   ]
  },
  {
   "cell_type": "markdown",
   "id": "89fef2f3",
   "metadata": {},
   "source": [
    "#### 97. Considering 2 vectors A & B, write the einsum equivalent of inner, outer, sum, and mul function (★★★)"
   ]
  },
  {
   "cell_type": "code",
   "execution_count": 65,
   "id": "bb9c14b2",
   "metadata": {},
   "outputs": [
    {
     "name": "stdout",
     "output_type": "stream",
     "text": [
      "Inner Product: 32\n",
      "Outer Product:\n",
      "[[ 4  5  6]\n",
      " [ 8 10 12]\n",
      " [12 15 18]]\n",
      "Sum of A: 6\n",
      "Element-wise Multiplication: [ 4 10 18]\n"
     ]
    }
   ],
   "source": [
    "import numpy as np\n",
    "\n",
    "# Define two example vectors A and B\n",
    "A = np.array([1, 2, 3])\n",
    "B = np.array([4, 5, 6])\n",
    "\n",
    "# 1. Inner Product (Dot Product)\n",
    "inner_product = np.einsum('i,i->', A, B)\n",
    "print(f\"Inner Product: {inner_product}\")\n",
    "\n",
    "# 2. Outer Product\n",
    "outer_product = np.einsum('i,j->ij', A, B)\n",
    "print(f\"Outer Product:\\n{outer_product}\")\n",
    "\n",
    "# 3. Sum of vector A\n",
    "sum_A = np.einsum('i->', A)\n",
    "print(f\"Sum of A: {sum_A}\")\n",
    "\n",
    "# 4. Element-wise Multiplication (Hadamard Product)\n",
    "elementwise_mult = np.einsum('i,i->i', A, B)\n",
    "print(f\"Element-wise Multiplication: {elementwise_mult}\")\n"
   ]
  },
  {
   "cell_type": "markdown",
   "id": "7ad5cc5f",
   "metadata": {},
   "source": [
    "#### 98. Considering a path described by two vectors (X,Y), how to sample it using equidistant samples (★★★)?"
   ]
  },
  {
   "cell_type": "code",
   "execution_count": null,
   "id": "0899d1d5",
   "metadata": {},
   "outputs": [],
   "source": [
    "import numpy as np\n",
    "\n",
    "def equidistant_sampling(X, Y, num_samples):\n",
    "    # Compute the total distance between consecutive points\n",
    "    distances = np.sqrt(np.diff(X)**2 + np.diff(Y)**2)\n",
    "    total_length = np.sum(distances)\n",
    "    \n",
    "    # Compute the distance interval between samples\n",
    "    interval = total_length / (num_samples - 1)\n",
    "    \n",
    "    # Create a list of equidistant points\n",
    "    sampled_X = [X[0]]\n",
    "    sampled_Y = [Y[0]]\n",
    "    \n",
    "    # Accumulate the distance and sample points along the path\n",
    "    accumulated_distance = 0\n",
    "    current_point = 0\n",
    "    \n",
    "    for i in range(1, len(X)):\n",
    "        while accumulated_distance + distances[i-1] >= interval:\n",
    "            # Interpolate between points X[i-1] and X[i]\n",
    "            remaining_distance = interval - accumulated_distance\n",
    "            ratio = remaining_distance / distances[i-1]\n",
    "            new_X = X[i-1] + ratio * (X[i] - X[i-1])\n",
    "            new_Y = Y[i-1] + ratio * (Y[i] - Y[i-1])\n",
    "            \n",
    "            sampled_X.append(new_X)\n",
    "            sampled_Y.append(new_Y)\n",
    "            \n",
    "            # Reset accumulated distance\n",
    "            accumulated_distance = 0\n",
    "        \n",
    "        # Update the accumulated distance for the next iteration\n",
    "        accumulated_distance += distances[i-1]\n",
    "    \n",
    "    return np.array(sampled_X), np.array(sampled_Y)\n",
    "\n",
    "# Example usage\n",
    "X = np.array([0, 1, 2, 3, 4, 5])\n",
    "Y = np.array([0, 1, 2, 1, 0, -1])\n",
    "\n",
    "num_samples = 10  # Number of equidistant samples\n",
    "\n",
    "sampled_X, sampled_Y = equidistant_sampling(X, Y, num_samples)\n",
    "\n",
    "print(\"Sampled X:\", sampled_X)\n",
    "print(\"Sampled Y:\", sampled_Y)\n"
   ]
  },
  {
   "cell_type": "markdown",
   "id": "3343c711",
   "metadata": {},
   "source": [
    "#### 99. Given an integer n and a 2D array X, select from X the rows which can be interpreted as draws from a multinomial distribution with n degrees, i.e., the rows which only contain integers and which sum to n. (★★★)"
   ]
  },
  {
   "cell_type": "code",
   "execution_count": 1,
   "id": "f743e566",
   "metadata": {},
   "outputs": [
    {
     "name": "stdout",
     "output_type": "stream",
     "text": [
      "[[3 2 1]]\n"
     ]
    }
   ],
   "source": [
    "import numpy as np\n",
    "\n",
    "def select_multinomial_rows(X, n):\n",
    "    # Convert X to a numpy array if it's not already\n",
    "    X = np.array(X)\n",
    "    \n",
    "    # Filter rows where all elements are integers and sum equals n\n",
    "    valid_rows = [row for row in X if np.all(np.equal(row, row.astype(int))) and np.sum(row) == n]\n",
    "    \n",
    "    # Convert the result back to a numpy array (optional, for uniformity)\n",
    "    return np.array(valid_rows)\n",
    "\n",
    "# Example Usage:\n",
    "X = [\n",
    "    [3, 2, 1],\n",
    "    [1, 2, 2],\n",
    "    [4, 4, 4],\n",
    "    [5, 5, 5]\n",
    "]\n",
    "n = 6\n",
    "\n",
    "valid_rows = select_multinomial_rows(X, n)\n",
    "print(valid_rows)\n"
   ]
  },
  {
   "cell_type": "markdown",
   "id": "59ab5516",
   "metadata": {},
   "source": [
    "#### 100. Compute bootstrapped 95% confidence intervals for the mean of a 1D array X (i.e., resample the elements of an array with replacement N times, compute the mean of each sample, and then compute percentiles over the means). (★★★)"
   ]
  },
  {
   "cell_type": "code",
   "execution_count": 6,
   "id": "450877d8",
   "metadata": {},
   "outputs": [
    {
     "name": "stdout",
     "output_type": "stream",
     "text": [
      "Bootstrapped 95% Confidence Interval for the mean: (1.8, 4.2)\n"
     ]
    }
   ],
   "source": [
    "import numpy as np\n",
    "\n",
    "def bootstrap_mean_ci(X, n_iterations=10000, ci_percentile=95):\n",
    "    # Number of samples\n",
    "    n = len(X)\n",
    "    \n",
    "    # Array to store the means of each resample\n",
    "    resampled_means = np.zeros(n_iterations)\n",
    "    \n",
    "    # Perform bootstrap resampling\n",
    "    for i in range(n_iterations):\n",
    "        # Resample the data with replacement\n",
    "        resampled_data = np.random.choice(X, size=n, replace=True)\n",
    "        # Compute the mean of the resampled data\n",
    "        resampled_means[i] = np.mean(resampled_data)\n",
    "    \n",
    "    # Compute the lower and upper percentiles for the confidence interval\n",
    "    lower_percentile = (100 - ci_percentile) / 2\n",
    "    upper_percentile = 100 - lower_percentile\n",
    "    \n",
    "    # Get the confidence interval\n",
    "    ci_lower = np.percentile(resampled_means, lower_percentile)\n",
    "    ci_upper = np.percentile(resampled_means, upper_percentile)\n",
    "    \n",
    "    return ci_lower, ci_upper\n",
    "\n",
    "# Example usage:\n",
    "X = np.array([1, 2, 3, 4, 5])  # Example data\n",
    "ci_lower, ci_upper = bootstrap_mean_ci(X)\n",
    "print(f\"Bootstrapped 95% Confidence Interval for the mean: ({ci_lower}, {ci_upper})\")\n"
   ]
  }
 ],
 "metadata": {
  "kernelspec": {
   "display_name": "Python 3",
   "language": "python",
   "name": "python3"
  },
  "language_info": {
   "codemirror_mode": {
    "name": "ipython",
    "version": 3
   },
   "file_extension": ".py",
   "mimetype": "text/x-python",
   "name": "python",
   "nbconvert_exporter": "python",
   "pygments_lexer": "ipython3",
   "version": "3.13.1"
  }
 },
 "nbformat": 4,
 "nbformat_minor": 5
}
